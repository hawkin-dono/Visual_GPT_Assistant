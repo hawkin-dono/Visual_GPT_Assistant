{
 "cells": [
  {
   "cell_type": "code",
   "execution_count": 1,
   "metadata": {},
   "outputs": [],
   "source": [
    "from GPT_API_model import GPT_APIModel\n",
    "from dotenv import load_dotenv\n",
    "import os\n"
   ]
  },
  {
   "cell_type": "code",
   "execution_count": null,
   "metadata": {},
   "outputs": [],
   "source": []
  },
  {
   "cell_type": "code",
   "execution_count": 2,
   "metadata": {},
   "outputs": [
    {
     "name": "stderr",
     "output_type": "stream",
     "text": [
      "c:\\Users\\acer\\miniconda3\\envs\\env\\Lib\\site-packages\\transformers\\tokenization_utils_base.py:1614: FutureWarning: `clean_up_tokenization_spaces` was not set. It will be set to `True` by default. This behavior will be deprecated in transformers v4.45, and will be then set to `False` by default. For more details check this issue: https://github.com/huggingface/transformers/issues/31884\n",
      "  warnings.warn(\n"
     ]
    }
   ],
   "source": [
    "load_dotenv() \n",
    "api_key = os.getenv(\"GPT_API\")\n",
    "model = GPT_APIModel(api_key)"
   ]
  },
  {
   "cell_type": "markdown",
   "metadata": {},
   "source": [
    "# restart chat"
   ]
  },
  {
   "cell_type": "code",
   "execution_count": 11,
   "metadata": {},
   "outputs": [],
   "source": [
    "model.reset_chat_history()"
   ]
  },
  {
   "cell_type": "markdown",
   "metadata": {},
   "source": [
    "# Test text response"
   ]
  },
  {
   "cell_type": "code",
   "execution_count": 12,
   "metadata": {},
   "outputs": [
    {
     "name": "stdout",
     "output_type": "stream",
     "text": [
      "Dựa trên thông tin kỹ thuật dưới đây, hãy trả lời câu hỏi sau:\n",
      "\n",
      "# Thông tin kỹ thuật:\n",
      "Cầu  dao  chính  nằm  ở  phía  sau  máy.\n",
      "5\n",
      "81\n",
      "3\n",
      "Tải  chương  trình  CNC  từ  máy  tính  của  bạn  xuống  máy  điều  khiển  bằng  giao  tiếp  RS-232,  bộ  nhớ  flash  USB  hoặc  \n",
      "đĩa  mềm.\n",
      "9\n",
      "Tháo  dụng  cụ  ra  khỏi  trục  chính,  vệ  sinh  khu  vực  làm  việc  và  tắt  máy  đúng  cách.\n",
      "Chấu kẹp bị hỏng hoặc mòn: Để khắc phục tình trạng chấu kẹp bị hỏng hoặc mòn khiến không giữ chắc dao và gây rung động, bạn có thể thực hiện theo các bước sau:\n",
      "\n",
      "### Bước 1: Ngừng vận hành máy CNC\n",
      "- **Tắt máy:** Đảm bảo máy CNC đã được tắt hoàn toàn và nguồn điện đã được ngắt để bảo đảm an toàn.\n",
      "- **Đọc hướng dẫn:** Tham khảo hướng dẫn sử dụng của máy để nắm rõ cách tháo lắp chấu kẹp.\n",
      "\n",
      "### Bước 2: Kiểm tra chấu kẹp\n",
      "- **Tháo chấu kẹp:** Sử dụng các công cụ phù hợp để tháo chấu kẹp ra khỏi trục chính, theo đúng quy trình đã nêu trong hướng dẫn sử dụng.\n",
      "- **Kiểm tra trực quan:** Kiểm tra chấu kẹp để tìm kiếm các dấu hiệu hư hỏng như vết nứt, cong vênh, hoặc mòn không đồng đều.\n",
      "- **Kiểm tra kích thước:** Sử dụng dụng cụ đo chính xác (như thước cặp hoặc máy đo đường kính) để xác định mức độ mòn.\n",
      "\n",
      "### Bước 3: Vệ sinh chấu kẹp và khu vực xung quanh\n",
      "- **Vệ sinh chấu kẹp:** Dùng dụng cụ vệ sinh chuyên dụng hoặc dung dịch làm sạch để loại bỏ bụi bẩn, dầu mỡ bám trên chấu kẹp.\n",
      "- **Vệ sinh bề mặt tiếp xúc:** Vệ sinh khu vực trục và đầu côn trên máy CNC để đảm bảo không có cản trở khi lắp lại chấu kẹp.\n",
      "\n",
      "### Bước 4: Lắp đặt hoặc thay thế chấu kẹp\n",
      "- **Lắp chấu kẹp cũ (nếu còn tốt):** Nếu chấu kẹp không quá mòn hoặc hỏng, hãy lắp lại theo đúng quy trình, đảm bảo nó được lắp chắc chắn.\n",
      "- **Thay thế nếu cần:** Nếu chấu kẹp bị hỏng hoặc mòn quá mức, hãy thay thế bằng chấu kẹp mới phù hợp với thông số kỹ thuật của máy CNC.\n",
      "\n",
      "### Bước 5: Kiểm tra lại và điều chỉnh\n",
      "- **Kiểm tra độ chắc chắn:** Sau khi lắp đặt, đảm bảo chấu kẹp giữ chắc dao và không có độ rơ.\n",
      "- **Chạy thử:** Khởi động lại máy và chạy thử ở tốc độ thấp để kiểm tra xem có tình trạng rung động hoặc tiếng kêu bất thường nào không.\n",
      "- **Điều chỉnh:** Nếu cần, điều chỉnh lại vị trí hoặc lực kẹp của chấu kẹp để đạt hiệu quả kẹp tối ưu.\n",
      "\n",
      "### Bước 6: Bảo trì định kỳ\n",
      "- **Lên kế hoạch kiểm tra:** Thực hiện kiểm tra và bảo trì định kỳ cho chấu kẹp để đảm bảo hiệu suất ổn định và kéo dài tuổi thọ của chấu kẹp.\n",
      "- **Đào tạo nhân viên:** Đảm bảo rằng tất cả nhân viên vận hành máy được đào tạo đầy đủ về việc kiểm tra và bảo dưỡng chấu kẹp.\n",
      "\n",
      "Thực hiện đúng các bước trên không chỉ giúp khắc phục tình trạng chấu kẹp bị mòn hoặc hỏng mà còn giúp tăng cường an toàn và hiệu suất hoạt động của máy CNC.\n",
      "Kẹp dao không đồng tâm: Kẹp dao không đồng tâm là một vấn đề phổ biến trong quá trình gia công trên máy CNC, có thể dẫn đến các lỗi gia công nghiêm trọng và ảnh hưởng đến chất lượng sản phẩm cuối cùng. Dưới đây là một mô tả chi tiết từng bước để khắc phục lỗi dao bị lệch tâm so với trục chính:\n",
      "\n",
      "### Bước 1: Dừng máy và đảm bảo an toàn\n",
      "- Tắt máy CNC ngay lập tức để tránh gây thiệt hại thêm cho dao cắt, phôi hoặc máy.\n",
      "- Đảm bảo mọi cơ cấu an toàn được kích hoạt và tuân thủ các quy trình an toàn khi làm việc gần máy móc.\n",
      "\n",
      "### Bước 2: Kiểm tra dao và giá kẹp\n",
      "- Kiểm tra hình dạng và tình trạng của dao cắt: đảm bảo dao không bị cong, vênh hoặc hỏng hóc.\n",
      "- Kiểm tra giá kẹp (collet, chuck) để đảm bảo không có dị vật hoặc chất cặn bẩn ngăn cản dao được cài đặt đúng cách.\n",
      "\n",
      "### Bước 3: Tháo và vệ sinh dao\n",
      "- Tháo dao ra khỏi trục chính một cách cẩn thận. Sử dụng các dụng cụ phù hợp để tránh làm hư hỏng thêm.\n",
      "- Làm sạch dao và giá kẹp bằng khăn mềm và dung dịch vệ sinh chuyên dụng, loại bỏ mọi chất bẩn, mảnh vụn hoặc dầu mỡ có thể ảnh hưởng đến việc kẹp chính xác.\n",
      "\n",
      "### Bước 4: Kiểm tra trục chính và hệ thống kẹp\n",
      "- Kiểm tra trục chính để đảm bảo không có sự hao mòn hoặc hỏng hóc cơ khí nào có thể làm lệch tâm dao.\n",
      "- Kiểm tra hệ thống kẹp (pull stud, collet, chuck) để chắc chắn rằng mọi thành phần đều không bị mòn quá mức và hoạt động đúng cách.\n",
      "\n",
      "### Bước 5: Cài đặt lại dao\n",
      "- Lắp lại dao vào trục chính cẩn thận, đảm bảo rằng dao được định vị chính xác và kẹp chắc chắn.\n",
      "- Sử dụng dụng cụ kiểm tra chính xác như đồng hồ so để đảm bảo rằng dao không còn bị lệch tâm.\n",
      "\n",
      "### Bước 6: Kiểm tra và cân chỉnh\n",
      "- Khởi động máy CNC và chạy chương trình kiểm tra với tốc độ thấp để quan sát dao hoạt động mà không cắt vật liệu.\n",
      "- Sử dụng thiết bị đo kiểm như đo độ rung, phân tích độ ồn để xác nhận dao đã được căn chỉnh chính xác.\n",
      "\n",
      "### Bước 7: Thực hiện gia công kiểm tra\n",
      "- Chọn một chi tiết thử nghiệm để gia công và kiểm tra sản phẩm sau khi gia công xem có còn các dấu hiệu của việc lệch tâm hay không.\n",
      "- Điều chỉnh các tham số CNC nếu cần để tối ưu hóa quy trình gia công.\n",
      "\n",
      "### Bước 8: Theo dõi và bảo dưỡng định kỳ\n",
      "- Lập kế hoạch bảo dưỡng định kỳ cho hệ thống kẹp và dao để đảm bảo độ chính xác tối ưu.\n",
      "- Đào tạo cho nhân viên về các lỗi phổ biến và quy trình khắc phục nhanh chóng để giảm thiểu thời gian chết máy.\n",
      "\n",
      "### Ghi chú chung:\n",
      "- Đảm bảo rằng tất cả các thao tác trên được thực hiện bởi kỹ thuật viên có kinh nghiệm và tuân thủ mọi quy tắc an toàn.\n",
      "- Theo dõi liên tục thông số hoạt động của máy để phát hiện sớm các lỗi tương tự trong tương lai.\n",
      "\n",
      "\n",
      "# Câu hỏi:\n",
      "Máy CNC bị rơi dao, hãy giúp tôi đưa ra cách khắc phục\n",
      "\n",
      "Model responded directly to the user.\n"
     ]
    }
   ],
   "source": [
    "prompt = \"Máy CNC bị rơi dao, hãy giúp tôi đưa ra cách khắc phục\"\n",
    "image_link = None\n",
    "response = model.generate_response(prompt, image_link= image_link)\n"
   ]
  },
  {
   "cell_type": "code",
   "execution_count": 13,
   "metadata": {},
   "outputs": [
    {
     "name": "stdout",
     "output_type": "stream",
     "text": [
      "Bạn hãy kiểm tra và sửa chữa theo các bước sau:\n",
      "\n",
      "1. **Dừng máy và đảm bảo an toàn:** Tắt máy CNC và kích hoạt cơ cấu an toàn.\n",
      "2. **Kiểm tra dao và giá kẹp:** Kiểm tra dao có bị cong, vênh hoặc hỏng không và giá kẹp có bị bẩn không.\n",
      "3. **Tháo và vệ sinh dao:** Tháo dao cẩn thận, vệ sinh dao và giá kẹp.\n",
      "4. **Kiểm tra trục chính và hệ thống kẹp:** Đảm bảo trục chính và hệ thống kẹp không bị mòn hoặc hỏng.\n",
      "5. **Cài đặt lại dao:** Lắp dao vào trục chính, dùng đồng hồ so để kiểm tra độ đồng tâm.\n",
      "6. **Kiểm tra và cân chỉnh:** Chạy thử máy, sử dụng thiết bị đo để xác nhận dao đã được căn chỉnh.\n",
      "7. **Thực hiện gia công kiểm tra:** Gia công thử và kiểm tra sản phẩm để đảm bảo không còn lỗi.\n",
      "8. **Theo dõi và bảo dưỡng định kỳ:** Lên lịch bảo dưỡng và đào tạo nhân viên.\n"
     ]
    }
   ],
   "source": [
    "print(response)"
   ]
  },
  {
   "cell_type": "code",
   "execution_count": 14,
   "metadata": {},
   "outputs": [
    {
     "name": "stdout",
     "output_type": "stream",
     "text": [
      "{'role': 'system', 'content': 'You are an intelligent and helpful assistant specializing in supporting operations at Denso Vietnam, a leading export manufacturing enterprise that supplies automotive components. Your primary role is to assist with factory operations, provide insights into production processes, help optimize workflows, and answer technical queries related to automotive parts manufacturing and assembly. Ensure your responses are clear, concise, and tailored to the needs of factory personnel.'}\n",
      "{'role': 'user', 'content': 'Máy CNC bị rơi dao, hãy giúp tôi đưa ra cách khắc phục'}\n",
      "{'role': 'assistant', 'content': 'Bạn hãy kiểm tra và sửa chữa theo các bước sau:\\n\\n1. **Dừng máy và đảm bảo an toàn:** Tắt máy CNC và kích hoạt cơ cấu an toàn.\\n2. **Kiểm tra dao và giá kẹp:** Kiểm tra dao có bị cong, vênh hoặc hỏng không và giá kẹp có bị bẩn không.\\n3. **Tháo và vệ sinh dao:** Tháo dao cẩn thận, vệ sinh dao và giá kẹp.\\n4. **Kiểm tra trục chính và hệ thống kẹp:** Đảm bảo trục chính và hệ thống kẹp không bị mòn hoặc hỏng.\\n5. **Cài đặt lại dao:** Lắp dao vào trục chính, dùng đồng hồ so để kiểm tra độ đồng tâm.\\n6. **Kiểm tra và cân chỉnh:** Chạy thử máy, sử dụng thiết bị đo để xác nhận dao đã được căn chỉnh.\\n7. **Thực hiện gia công kiểm tra:** Gia công thử và kiểm tra sản phẩm để đảm bảo không còn lỗi.\\n8. **Theo dõi và bảo dưỡng định kỳ:** Lên lịch bảo dưỡng và đào tạo nhân viên.'}\n"
     ]
    }
   ],
   "source": [
    "for ele in model.get_chat_history():\n",
    "    print(ele)"
   ]
  },
  {
   "cell_type": "code",
   "execution_count": 15,
   "metadata": {},
   "outputs": [],
   "source": [
    "prompt = \"hãy cho tôi biết về cách xử lý lỗi này đã được thực hiện trong quá khứ\"\n",
    "image_link = None"
   ]
  },
  {
   "cell_type": "code",
   "execution_count": 16,
   "metadata": {},
   "outputs": [
    {
     "name": "stdout",
     "output_type": "stream",
     "text": [
      "Dựa trên thông tin kỹ thuật dưới đây, hãy trả lời câu hỏi sau:\n",
      "\n",
      "# Thông tin kỹ thuật:\n",
      "\n",
      "\n",
      "# Câu hỏi:\n",
      "hãy cho tôi biết về cách xử lý lỗi này đã được thực hiện trong quá khứ\n",
      "\n",
      "Model responded directly to the user.\n",
      "Để hỗ trợ tốt hơn, tôi cần biết tên và model của máy CNC gặp sự cố. Bạn có thể cung cấp thông tin này không?\n"
     ]
    }
   ],
   "source": [
    "response = model.generate_response(prompt, image_link= image_link)\n",
    "print(response)"
   ]
  },
  {
   "cell_type": "code",
   "execution_count": 17,
   "metadata": {},
   "outputs": [
    {
     "name": "stdout",
     "output_type": "stream",
     "text": [
      "{'role': 'system', 'content': 'You are an intelligent and helpful assistant specializing in supporting operations at Denso Vietnam, a leading export manufacturing enterprise that supplies automotive components. Your primary role is to assist with factory operations, provide insights into production processes, help optimize workflows, and answer technical queries related to automotive parts manufacturing and assembly. Ensure your responses are clear, concise, and tailored to the needs of factory personnel.'}\n",
      "{'role': 'user', 'content': 'Máy CNC bị rơi dao, hãy giúp tôi đưa ra cách khắc phục'}\n",
      "{'role': 'assistant', 'content': 'Bạn hãy kiểm tra và sửa chữa theo các bước sau:\\n\\n1. **Dừng máy và đảm bảo an toàn:** Tắt máy CNC và kích hoạt cơ cấu an toàn.\\n2. **Kiểm tra dao và giá kẹp:** Kiểm tra dao có bị cong, vênh hoặc hỏng không và giá kẹp có bị bẩn không.\\n3. **Tháo và vệ sinh dao:** Tháo dao cẩn thận, vệ sinh dao và giá kẹp.\\n4. **Kiểm tra trục chính và hệ thống kẹp:** Đảm bảo trục chính và hệ thống kẹp không bị mòn hoặc hỏng.\\n5. **Cài đặt lại dao:** Lắp dao vào trục chính, dùng đồng hồ so để kiểm tra độ đồng tâm.\\n6. **Kiểm tra và cân chỉnh:** Chạy thử máy, sử dụng thiết bị đo để xác nhận dao đã được căn chỉnh.\\n7. **Thực hiện gia công kiểm tra:** Gia công thử và kiểm tra sản phẩm để đảm bảo không còn lỗi.\\n8. **Theo dõi và bảo dưỡng định kỳ:** Lên lịch bảo dưỡng và đào tạo nhân viên.'}\n",
      "{'role': 'user', 'content': 'hãy cho tôi biết về cách xử lý lỗi này đã được thực hiện trong quá khứ'}\n",
      "{'role': 'assistant', 'content': 'Để hỗ trợ tốt hơn, tôi cần biết tên và model của máy CNC gặp sự cố. Bạn có thể cung cấp thông tin này không?'}\n"
     ]
    }
   ],
   "source": [
    "for ele in model.get_chat_history():\n",
    "    print(ele)"
   ]
  },
  {
   "cell_type": "code",
   "execution_count": 18,
   "metadata": {},
   "outputs": [
    {
     "name": "stdout",
     "output_type": "stream",
     "text": [
      "Dựa trên thông tin kỹ thuật dưới đây, hãy trả lời câu hỏi sau:\n",
      "\n",
      "# Thông tin kỹ thuật:\n",
      "\n",
      "\n",
      "# Câu hỏi:\n",
      "Tôi muốn hỏi về máy OP1, số quản lý thiết bị là VMI 0082\n",
      "\n",
      "Model made a tool call.\n",
      "Model loaded from saved_models/model.pkl\n",
      "Used categories loaded from saved_models/categories.pkl\n"
     ]
    },
    {
     "name": "stderr",
     "output_type": "stream",
     "text": [
      "d:\\code\\fpt_denso_hackathon\\model\\src\\model\\predict.py:54: SettingWithCopyWarning: \n",
      "A value is trying to be set on a copy of a slice from a DataFrame.\n",
      "Try using .loc[row_indexer,col_indexer] = value instead\n",
      "\n",
      "See the caveats in the documentation: https://pandas.pydata.org/pandas-docs/stable/user_guide/indexing.html#returning-a-view-versus-a-copy\n",
      "  machine_data['sim_score'] = machine_data['Nắm bắt hiện tượng'].apply(lambda x: jaccard_similarity_2_shingle(x, error_description))\n"
     ]
    },
    {
     "name": "stdout",
     "output_type": "stream",
     "text": [
      "Dựa trên lịch sử sửa chữa, máy OP1 đã xuất hiện lỗi rơi dao nhiều lần. Các biện pháp khắc phục đã được thực hiện bao gồm:\n",
      "\n",
      "1. **Thay thế tay ATC và cải tạo cụm gear ATC:** Khi mòn seal trục ATC.\n",
      "2. **Điều chỉnh góc orient và kiểm tra tay ATC, trục vít Y1, Y2:** Khi lệch góc orient và mòn trục vít.\n",
      "3. **Kiểm tra và cấp dầu cho cụm ATC:** Khi lỗi cấp dầu.\n",
      "\n",
      "Để ngăn ngừa lỗi tái phát, cần lên kế hoạch kiểm tra và thay thế linh kiện, bôi trơn, và điều chỉnh góc gia công định kỳ.\n"
     ]
    }
   ],
   "source": [
    "prompt = \"Tôi muốn hỏi về máy OP1, số quản lý thiết bị là VMI 0082\"\n",
    "image_link = None \n",
    "response = model.generate_response(prompt, image_link= image_link)\n",
    "print(response)"
   ]
  },
  {
   "cell_type": "code",
   "execution_count": 19,
   "metadata": {},
   "outputs": [
    {
     "name": "stdout",
     "output_type": "stream",
     "text": [
      "{'role': 'system', 'content': 'You are an intelligent and helpful assistant specializing in supporting operations at Denso Vietnam, a leading export manufacturing enterprise that supplies automotive components. Your primary role is to assist with factory operations, provide insights into production processes, help optimize workflows, and answer technical queries related to automotive parts manufacturing and assembly. Ensure your responses are clear, concise, and tailored to the needs of factory personnel.'}\n",
      "{'role': 'user', 'content': 'hãy cho tôi biết về cách xử lý lỗi này đã được thực hiện trong quá khứ'}\n",
      "{'role': 'assistant', 'content': 'Để hỗ trợ tốt hơn, tôi cần biết tên và model của máy CNC gặp sự cố. Bạn có thể cung cấp thông tin này không?'}\n",
      "{'role': 'user', 'content': 'Tôi muốn hỏi về máy OP1, số quản lý thiết bị là VMI 0082'}\n",
      "{'role': 'assistant', 'content': 'Dựa trên lịch sử sửa chữa, máy OP1 đã xuất hiện lỗi rơi dao nhiều lần. Các biện pháp khắc phục đã được thực hiện bao gồm:\\n\\n1. **Thay thế tay ATC và cải tạo cụm gear ATC:** Khi mòn seal trục ATC.\\n2. **Điều chỉnh góc orient và kiểm tra tay ATC, trục vít Y1, Y2:** Khi lệch góc orient và mòn trục vít.\\n3. **Kiểm tra và cấp dầu cho cụm ATC:** Khi lỗi cấp dầu.\\n\\nĐể ngăn ngừa lỗi tái phát, cần lên kế hoạch kiểm tra và thay thế linh kiện, bôi trơn, và điều chỉnh góc gia công định kỳ.'}\n"
     ]
    }
   ],
   "source": [
    "for ele in model.get_chat_history():\n",
    "    print(ele)"
   ]
  },
  {
   "cell_type": "code",
   "execution_count": 20,
   "metadata": {},
   "outputs": [
    {
     "name": "stdout",
     "output_type": "stream",
     "text": [
      "Dựa trên thông tin kỹ thuật dưới đây, hãy trả lời câu hỏi sau:\n",
      "\n",
      "# Thông tin kỹ thuật:\n",
      "\n",
      "\n",
      "# Câu hỏi:\n",
      "Dựa trên lịch sử lỗi của máy móc, hãy đề xuất cho tôi thời gian bảo dưỡng cho máy OP1\n",
      "\n",
      "Model made a tool call.\n",
      "Model loaded from saved_models/model.pkl\n",
      "Used categories loaded from saved_models/categories.pkl\n",
      "Máy OP1 (số quản lý VMI 0082) dự kiến sẽ gặp lỗi lại vào ngày 19-05-2024. Tôi đề xuất thực hiện bảo dưỡng định kỳ trước ngày này, tốt nhất là từ 01-05-2024 đến 10-05-2024.\n"
     ]
    }
   ],
   "source": [
    "prompt = \"Dựa trên lịch sử lỗi của máy móc, hãy đề xuất cho tôi thời gian bảo dưỡng cho máy OP1\"\n",
    "image_link = None \n",
    "response = model.generate_response(prompt, image_link= image_link)\n",
    "print(response)"
   ]
  },
  {
   "cell_type": "markdown",
   "metadata": {},
   "source": [
    "# Reset"
   ]
  },
  {
   "cell_type": "code",
   "execution_count": 18,
   "metadata": {},
   "outputs": [],
   "source": [
    "model.reset_chat_history()"
   ]
  },
  {
   "cell_type": "markdown",
   "metadata": {},
   "source": [
    "# test 2"
   ]
  },
  {
   "cell_type": "code",
   "execution_count": 4,
   "metadata": {},
   "outputs": [],
   "source": [
    "image_link = \"https://preview.redd.it/has-anyone-ever-had-this-error-and-how-did-you-fix-it-v0-e8ze71t4n4hd1.jpeg?width=1080&crop=smart&auto=webp&s=2ea59917edf78dab00abbb7c070ca8a1201f814f\"\n",
    "prompt = \"Hãy xem hình ảnh sau và cho tôi biết đây là lỗi gì và cách khắc phục như thế nào?\""
   ]
  },
  {
   "cell_type": "code",
   "execution_count": 5,
   "metadata": {},
   "outputs": [
    {
     "name": "stderr",
     "output_type": "stream",
     "text": [
      "c:\\Users\\acer\\miniconda3\\envs\\env\\Lib\\site-packages\\transformers\\models\\bert\\modeling_bert.py:439: UserWarning: 1Torch was not compiled with flash attention. (Triggered internally at ..\\aten\\src\\ATen\\native\\transformers\\cuda\\sdp_utils.cpp:455.)\n",
      "  attn_output = torch.nn.functional.scaled_dot_product_attention(\n"
     ]
    },
    {
     "name": "stdout",
     "output_type": "stream",
     "text": [
      "Dựa trên thông tin kỹ thuật dưới đây, hãy trả lời câu hỏi sau:\n",
      "\n",
      "# Thông tin kỹ thuật:\n",
      "\n",
      "\n",
      "# Câu hỏi:\n",
      "Hãy xem hình ảnh sau và cho tôi biết đây là lỗi gì và cách khắc phục như thế nào?\n",
      "\n",
      "Model responded directly to the user.\n",
      "Ảnh này cho thấy lỗi \"Drive Error 307\" với nguyên nhân là \"Power bus voltage too low (software)\", liên quan đến điện áp thấp trên thanh dẫn nguồn của ổ đĩa X. \n",
      "\n",
      "## Chẩn đoán:\n",
      "1. Kiểm tra nguồn cấp: Đảm bảo điện áp đầu vào của máy CNC đáp ứng thông số kỹ thuật.\n",
      "2. Kiểm tra phần mềm: Cập nhật phần mềm điều khiển máy CNC lên phiên bản mới nhất.\n",
      "\n",
      "## Khắc phục:\n",
      "1. Ngắt nguồn máy CNC và kiểm tra kết nối điện.\n",
      "2. Thay thế cáp nguồn hoặc bộ chuyển đổi nếu cần.\n",
      "3. Sử dụng bộ ổn áp nếu điện áp đầu vào không ổn định.\n",
      "4. Khởi động lại máy CNC và cập nhật phần mềm điều khiển.\n"
     ]
    }
   ],
   "source": [
    "\n",
    "response = model.generate_response(prompt, image_link= image_link)\n",
    "print(response)"
   ]
  },
  {
   "cell_type": "code",
   "execution_count": 6,
   "metadata": {},
   "outputs": [
    {
     "name": "stdout",
     "output_type": "stream",
     "text": [
      "{'role': 'system', 'content': 'You are an intelligent and helpful assistant specializing in supporting operations at Denso Vietnam, a leading export manufacturing enterprise that supplies automotive components. Your primary role is to assist with factory operations, provide insights into production processes, help optimize workflows, and answer technical queries related to machine, automotive parts manufacturing and assembly. Ensure your responses are clear, and tailored to the needs of factory personnel.'}\n",
      "{'role': 'user', 'content': 'Hãy xem hình ảnh sau và cho tôi biết đây là lỗi gì và cách khắc phục như thế nào?'}\n",
      "{'role': 'assistant', 'content': 'Ảnh này cho thấy lỗi \"Drive Error 307\" với nguyên nhân là \"Power bus voltage too low (software)\", liên quan đến điện áp thấp trên thanh dẫn nguồn của ổ đĩa X. \\n\\n## Chẩn đoán:\\n1. Kiểm tra nguồn cấp: Đảm bảo điện áp đầu vào của máy CNC đáp ứng thông số kỹ thuật.\\n2. Kiểm tra phần mềm: Cập nhật phần mềm điều khiển máy CNC lên phiên bản mới nhất.\\n\\n## Khắc phục:\\n1. Ngắt nguồn máy CNC và kiểm tra kết nối điện.\\n2. Thay thế cáp nguồn hoặc bộ chuyển đổi nếu cần.\\n3. Sử dụng bộ ổn áp nếu điện áp đầu vào không ổn định.\\n4. Khởi động lại máy CNC và cập nhật phần mềm điều khiển.'}\n"
     ]
    }
   ],
   "source": [
    "for ele in model.get_chat_history():\n",
    "    print(ele)"
   ]
  },
  {
   "cell_type": "code",
   "execution_count": null,
   "metadata": {},
   "outputs": [],
   "source": []
  }
 ],
 "metadata": {
  "kernelspec": {
   "display_name": "env",
   "language": "python",
   "name": "python3"
  },
  "language_info": {
   "codemirror_mode": {
    "name": "ipython",
    "version": 3
   },
   "file_extension": ".py",
   "mimetype": "text/x-python",
   "name": "python",
   "nbconvert_exporter": "python",
   "pygments_lexer": "ipython3",
   "version": "3.12.2"
  }
 },
 "nbformat": 4,
 "nbformat_minor": 2
}
