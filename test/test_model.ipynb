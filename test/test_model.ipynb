{
 "cells": [
  {
   "cell_type": "code",
   "execution_count": 1,
   "metadata": {},
   "outputs": [],
   "source": [
    "from GPT_API_model import GPT_APIModel\n",
    "from dotenv import load_dotenv\n",
    "import os\n"
   ]
  },
  {
   "cell_type": "code",
   "execution_count": null,
   "metadata": {},
   "outputs": [],
   "source": []
  },
  {
   "cell_type": "code",
   "execution_count": 2,
   "metadata": {},
   "outputs": [
    {
     "name": "stderr",
     "output_type": "stream",
     "text": [
      "c:\\Users\\acer\\miniconda3\\envs\\env\\Lib\\site-packages\\transformers\\tokenization_utils_base.py:1614: FutureWarning: `clean_up_tokenization_spaces` was not set. It will be set to `True` by default. This behavior will be deprecated in transformers v4.45, and will be then set to `False` by default. For more details check this issue: https://github.com/huggingface/transformers/issues/31884\n",
      "  warnings.warn(\n"
     ]
    }
   ],
   "source": [
    "load_dotenv() \n",
    "api_key = os.getenv(\"GPT_API\")\n",
    "model = GPT_APIModel(api_key)"
   ]
  },
  {
   "cell_type": "markdown",
   "metadata": {},
   "source": [
    "# restart chat"
   ]
  },
  {
   "cell_type": "code",
   "execution_count": 3,
   "metadata": {},
   "outputs": [],
   "source": [
    "model.reset_chat_history()"
   ]
  },
  {
   "cell_type": "markdown",
   "metadata": {},
   "source": [
    "# Test text response"
   ]
  },
  {
   "cell_type": "code",
   "execution_count": 4,
   "metadata": {},
   "outputs": [
    {
     "name": "stdout",
     "output_type": "stream",
     "text": [
      "Model responded directly to the user.\n"
     ]
    }
   ],
   "source": [
    "prompt = \"Máy CNC phát ra tiếng ồn lạ hoặc rung động trong quá trình hoạt động, Hãy giúp tôi chuẩn đoán lỗi và đưa ra cách khắc phục\"\n",
    "image_link = None\n",
    "response = model.generate_response(prompt, image_link= image_link, do_rag= False)\n"
   ]
  },
  {
   "cell_type": "code",
   "execution_count": 5,
   "metadata": {},
   "outputs": [
    {
     "name": "stdout",
     "output_type": "stream",
     "text": [
      "Tiếng ồn lạ hoặc rung động bất thường trong máy CNC có thể do một số nguyên nhân. Dưới đây là một số nguyên nhân phổ biến và hướng dẫn từng bước để khắc phục:\n",
      "\n",
      "1. **Bu lông, ốc vít lỏng lẻo:**\n",
      "   - **Chẩn đoán:** Kiểm tra các bu lông, ốc vít ở các bộ phận khung máy, mô-tơ, thanh trượt xem có bị lỏng không.\n",
      "   - **Khắc phục:** Sử dụng dụng cụ phù hợp để vặn chặt lại.\n",
      "\n",
      "2. **Mô tơ bị lỗi hoặc gắn sai lệch:**\n",
      "   - **Chẩn đoán:** Nghe và quan sát mô tơ trong khi chạy không tải. Kiểm tra độ thẳng hàng giữa các trục và khớp nối.\n",
      "   - **Khắc phục:** Lắp đặt lại, thay thế mô tơ nếu cần thiết.\n",
      "\n",
      "3. **Bộ phận truyền động bị mòn, hỏng:**\n",
      "   - **Chẩn đoán:** Kiểm tra các bánh răng, đai truyền có bị mòn hoặc hỏng không.\n",
      "   - **Khắc phục:** Thay thế các bộ phận bị hỏng.\n",
      "\n",
      "4. **Mất cân bằng trục hoặc bàn máy:**\n",
      "   - **Chẩn đoán:** Kiểm tra sự cân bằng của trục, bàn máy và phôi.\n",
      "   - **Khắc phục:** Cân chỉnh lại bàn máy, trục và phôi.\n",
      "\n",
      "5. **Lỗi phần mềm hoặc tham số vận hành:**\n",
      "   - **Chẩn đoán:** Kiểm tra phần mềm điều khiển và tham số vận hành.\n",
      "   - **Khắc phục:** Cài đặt lại phần mềm và cấu hình tham số.\n"
     ]
    }
   ],
   "source": [
    "print(response)"
   ]
  },
  {
   "cell_type": "code",
   "execution_count": 6,
   "metadata": {},
   "outputs": [
    {
     "name": "stdout",
     "output_type": "stream",
     "text": [
      "{'role': 'system', 'content': 'You are an intelligent and helpful assistant specializing in supporting operations at Denso Vietnam, a leading export manufacturing enterprise that supplies automotive components. Your primary role is to assist with factory operations, provide insights into production processes, help optimize workflows, and answer technical queries related to automotive parts manufacturing and assembly. Ensure your responses are clear, concise, and tailored to the needs of factory personnel.'}\n",
      "{'role': 'user', 'content': 'Máy CNC phát ra tiếng ồn lạ hoặc rung động trong quá trình hoạt động, Hãy giúp tôi chuẩn đoán lỗi và đưa ra cách khắc phục'}\n",
      "{'role': 'assistant', 'content': 'Tiếng ồn lạ hoặc rung động bất thường trong máy CNC có thể do một số nguyên nhân. Dưới đây là một số nguyên nhân phổ biến và hướng dẫn từng bước để khắc phục:\\n\\n1. **Bu lông, ốc vít lỏng lẻo:**\\n   - **Chẩn đoán:** Kiểm tra các bu lông, ốc vít ở các bộ phận khung máy, mô-tơ, thanh trượt xem có bị lỏng không.\\n   - **Khắc phục:** Sử dụng dụng cụ phù hợp để vặn chặt lại.\\n\\n2. **Mô tơ bị lỗi hoặc gắn sai lệch:**\\n   - **Chẩn đoán:** Nghe và quan sát mô tơ trong khi chạy không tải. Kiểm tra độ thẳng hàng giữa các trục và khớp nối.\\n   - **Khắc phục:** Lắp đặt lại, thay thế mô tơ nếu cần thiết.\\n\\n3. **Bộ phận truyền động bị mòn, hỏng:**\\n   - **Chẩn đoán:** Kiểm tra các bánh răng, đai truyền có bị mòn hoặc hỏng không.\\n   - **Khắc phục:** Thay thế các bộ phận bị hỏng.\\n\\n4. **Mất cân bằng trục hoặc bàn máy:**\\n   - **Chẩn đoán:** Kiểm tra sự cân bằng của trục, bàn máy và phôi.\\n   - **Khắc phục:** Cân chỉnh lại bàn máy, trục và phôi.\\n\\n5. **Lỗi phần mềm hoặc tham số vận hành:**\\n   - **Chẩn đoán:** Kiểm tra phần mềm điều khiển và tham số vận hành.\\n   - **Khắc phục:** Cài đặt lại phần mềm và cấu hình tham số.'}\n"
     ]
    }
   ],
   "source": [
    "for ele in model.get_chat_history():\n",
    "    print(ele)"
   ]
  },
  {
   "cell_type": "code",
   "execution_count": 7,
   "metadata": {},
   "outputs": [],
   "source": [
    "prompt = \"hãy cho tôi biết về cách xử lý lỗi này đã được thực hiện trong quá khứ\"\n",
    "image_link = None"
   ]
  },
  {
   "cell_type": "code",
   "execution_count": 8,
   "metadata": {},
   "outputs": [
    {
     "name": "stderr",
     "output_type": "stream",
     "text": [
      "c:\\Users\\acer\\miniconda3\\envs\\env\\Lib\\site-packages\\transformers\\models\\bert\\modeling_bert.py:439: UserWarning: 1Torch was not compiled with flash attention. (Triggered internally at ..\\aten\\src\\ATen\\native\\transformers\\cuda\\sdp_utils.cpp:455.)\n",
      "  attn_output = torch.nn.functional.scaled_dot_product_attention(\n"
     ]
    },
    {
     "name": "stdout",
     "output_type": "stream",
     "text": [
      "Dựa trên thông tin kỹ thuật dưới đây, hãy trả lời câu hỏi sau:\n",
      "\n",
      "# Thông tin kỹ thuật:\n",
      "\n",
      "\n",
      "# Câu hỏi:\n",
      "hãy cho tôi biết về cách xử lý lỗi này đã được thực hiện trong quá khứ\n",
      "\n",
      "Model responded directly to the user.\n",
      "Vui lòng cung cấp tên máy, model, và mô tả lỗi để tôi có thể tra cứu lịch sử sửa chữa.\n"
     ]
    }
   ],
   "source": [
    "response = model.generate_response(prompt, image_link= image_link)\n",
    "print(response)"
   ]
  },
  {
   "cell_type": "code",
   "execution_count": 9,
   "metadata": {},
   "outputs": [
    {
     "name": "stdout",
     "output_type": "stream",
     "text": [
      "{'role': 'system', 'content': 'You are an intelligent and helpful assistant specializing in supporting operations at Denso Vietnam, a leading export manufacturing enterprise that supplies automotive components. Your primary role is to assist with factory operations, provide insights into production processes, help optimize workflows, and answer technical queries related to automotive parts manufacturing and assembly. Ensure your responses are clear, concise, and tailored to the needs of factory personnel.'}\n",
      "{'role': 'user', 'content': 'Máy CNC phát ra tiếng ồn lạ hoặc rung động trong quá trình hoạt động, Hãy giúp tôi chuẩn đoán lỗi và đưa ra cách khắc phục'}\n",
      "{'role': 'assistant', 'content': 'Tiếng ồn lạ hoặc rung động bất thường trong máy CNC có thể do một số nguyên nhân. Dưới đây là một số nguyên nhân phổ biến và hướng dẫn từng bước để khắc phục:\\n\\n1. **Bu lông, ốc vít lỏng lẻo:**\\n   - **Chẩn đoán:** Kiểm tra các bu lông, ốc vít ở các bộ phận khung máy, mô-tơ, thanh trượt xem có bị lỏng không.\\n   - **Khắc phục:** Sử dụng dụng cụ phù hợp để vặn chặt lại.\\n\\n2. **Mô tơ bị lỗi hoặc gắn sai lệch:**\\n   - **Chẩn đoán:** Nghe và quan sát mô tơ trong khi chạy không tải. Kiểm tra độ thẳng hàng giữa các trục và khớp nối.\\n   - **Khắc phục:** Lắp đặt lại, thay thế mô tơ nếu cần thiết.\\n\\n3. **Bộ phận truyền động bị mòn, hỏng:**\\n   - **Chẩn đoán:** Kiểm tra các bánh răng, đai truyền có bị mòn hoặc hỏng không.\\n   - **Khắc phục:** Thay thế các bộ phận bị hỏng.\\n\\n4. **Mất cân bằng trục hoặc bàn máy:**\\n   - **Chẩn đoán:** Kiểm tra sự cân bằng của trục, bàn máy và phôi.\\n   - **Khắc phục:** Cân chỉnh lại bàn máy, trục và phôi.\\n\\n5. **Lỗi phần mềm hoặc tham số vận hành:**\\n   - **Chẩn đoán:** Kiểm tra phần mềm điều khiển và tham số vận hành.\\n   - **Khắc phục:** Cài đặt lại phần mềm và cấu hình tham số.'}\n",
      "{'role': 'user', 'content': 'hãy cho tôi biết về cách xử lý lỗi này đã được thực hiện trong quá khứ'}\n",
      "{'role': 'assistant', 'content': 'Vui lòng cung cấp tên máy, model, và mô tả lỗi để tôi có thể tra cứu lịch sử sửa chữa.'}\n"
     ]
    }
   ],
   "source": [
    "for ele in model.get_chat_history():\n",
    "    print(ele)"
   ]
  },
  {
   "cell_type": "code",
   "execution_count": 10,
   "metadata": {},
   "outputs": [
    {
     "name": "stdout",
     "output_type": "stream",
     "text": [
      "Dựa trên thông tin kỹ thuật dưới đây, hãy trả lời câu hỏi sau:\n",
      "\n",
      "# Thông tin kỹ thuật:\n",
      "Kích hoạt sai chế độ: Để khắc phục vấn đề kích hoạt sai chế độ trên máy CNC, bạn cần thực hiện theo các bước sau đây. Lưu ý rằng các bước này có thể khác nhau tùy thuộc vào loại máy CNC cụ thể mà bạn đang sử dụng:\n",
      "\n",
      "1. **Ngắt nguồn điện và chuẩn bị an toàn:**\n",
      "   - Đảm bảo máy CNC được tắt và ngắt kết nối với nguồn điện để đảm bảo an toàn trước khi bắt đầu bảo trì.\n",
      "   - Đeo thiết bị bảo hộ cá nhân, chẳng hạn như găng tay và kính bảo hộ.\n",
      "\n",
      "2. **Kiểm tra tình trạng chế độ:**\n",
      "   - Kiểm tra trên màn hình điều khiển để xác định chế độ mà máy đang hoạt động. Máy CNC thường có các chế độ như chế độ tự động, chế độ thủ công, và chế độ cài đặt.\n",
      "   - Xác định xem có thông báo lỗi nào xuất hiện trên màn hình điều khiển hay không.\n",
      "\n",
      "3. **So sánh với cài đặt yêu cầu:**\n",
      "   - Đối chiếu chế độ hiện tại với chế độ được yêu cầu theo tài liệu kỹ thuật hoặc hướng dẫn vận hành của máy.\n",
      "   - Đảm bảo rằng các thông số kỹ thuật như tốc độ trục chính, tốc độ tiến dao và các thiết lập khác đều phù hợp với chương trình được lập trình.\n",
      "\n",
      "4. **Kiểm tra chương trình CNC:**\n",
      "   - Kiểm tra mã G-code để đảm bảo không có lỗi cú pháp hoặc logic trong chương trình.\n",
      "   - Sử dụng phần mềm mô phỏng (nếu có) để kiểm tra trước khi thực hiện gia công thực tế.\n",
      "\n",
      "5. **Kiểm tra hệ thống điều khiển:**\n",
      "   - Đảm bảo rằng các nút bấm, công tắc và bộ chuyển đổi ở bảng điều khiển đang hoạt động bình thường. Kiểm tra xem có nút nào bị mắc kẹt không.\n",
      "   - Kiểm tra kết nối giữa hệ thống điều khiển và các thành phần khác của máy, đảm bảo dây cáp và giắc kết nối không bị lỏng hoặc hỏng.\n",
      "\n",
      "6. **Kiểm tra cảm biến và công tắc hành trình:**\n",
      "   - Xác nhận rằng tất cả các cảm biến và công tắc hành trình đang hoạt động đúng cách.\n",
      "   - Vệ sinh các bộ phận này để loại bỏ bụi bẩn hoặc mảnh vụn có thể gây ảnh hưởng đến hoạt động của chúng.\n",
      "\n",
      "7. **Chạy chế độ thử nghiệm:**\n",
      "   - Chạy máy ở chế độ thử nghiệm hoặc chế độ mô phỏng nếu có, để đảm bảo rằng máy hoạt động theo như mong muốn sau khi đã thực hiện các điều chỉnh cần thiết.\n",
      "   - Quan sát kỹ hoạt động của máy để đảm bảo không phát sinh vấn đề nào khác.\n",
      "\n",
      "8. **Khởi động lại máy:**\n",
      "   - Sau khi hoàn tất các bước kiểm tra và sửa lỗi, khởi động lại máy và kiểm tra xem máy có hoạt động theo yêu cầu không.\n",
      "\n",
      "9. **Ghi nhận và báo cáo:**\n",
      "   - Ghi lại tất cả các bước đã thực hiện và thay đổi trong nhật ký bảo trì của máy.\n",
      "   - Báo cáo cho quản lý hoặc kỹ sư phụ trách nếu vấn đề không được giải quyết hoàn toàn hoặc nếu cần có thêm hướng dẫn từ nhà sản xuất máy CNC.\n",
      "\n",
      "Với các bước trên, bạn có thể tái kích hoạt máy CNC về chế độ hoạt động đúng yêu cầu. Nếu các vấn đề vẫn tiếp diễn, hãy liên hệ với nhà cung cấp hoặc kỹ thuật viên có chuyên môn để được hỗ trợ thêm.\n",
      "\n",
      "\n",
      "# Câu hỏi:\n",
      "Tôi muốn hỏi về máy OP1 CNC, số quản lý thiết bị là VMI 0082 với lỗi phát ra tiếng ồn lạ và rung động\n",
      "\n",
      "Model made a tool call.\n",
      "Model loaded from saved_models/model.pkl\n",
      "Used categories loaded from saved_models/categories.pkl\n"
     ]
    },
    {
     "name": "stderr",
     "output_type": "stream",
     "text": [
      "d:\\code\\fpt_denso_hackathon\\final_model\\src\\model\\predict.py:50: SettingWithCopyWarning: \n",
      "A value is trying to be set on a copy of a slice from a DataFrame.\n",
      "Try using .loc[row_indexer,col_indexer] = value instead\n",
      "\n",
      "See the caveats in the documentation: https://pandas.pydata.org/pandas-docs/stable/user_guide/indexing.html#returning-a-view-versus-a-copy\n",
      "  machine_data['sim_score'] = machine_data['Nắm bắt hiện tượng'].apply(lambda x: jaccard_similarity_2_shingle(x, error_description))\n"
     ]
    },
    {
     "name": "stdout",
     "output_type": "stream",
     "text": [
      "Hiện tại, tôi không tìm thấy thông tin về lịch sử sửa chữa liên quan đến lỗi này. Bạn có thể thử khắc phục theo hướng dẫn tôi đã đề xuất trước đó hoặc liên hệ đội ngũ kỹ thuật.\n"
     ]
    }
   ],
   "source": [
    "prompt = \"Tôi muốn hỏi về máy OP1 CNC, số quản lý thiết bị là VMI 0082 với lỗi phát ra tiếng ồn lạ và rung động\"\n",
    "image_link = None \n",
    "response = model.generate_response(prompt, image_link= image_link)\n",
    "print(response)"
   ]
  },
  {
   "cell_type": "markdown",
   "metadata": {},
   "source": [
    "# Reset"
   ]
  },
  {
   "cell_type": "code",
   "execution_count": 18,
   "metadata": {},
   "outputs": [],
   "source": [
    "model.reset_chat_history()"
   ]
  },
  {
   "cell_type": "markdown",
   "metadata": {},
   "source": [
    "# test 2"
   ]
  },
  {
   "cell_type": "code",
   "execution_count": 4,
   "metadata": {},
   "outputs": [],
   "source": [
    "image_link = \"https://preview.redd.it/has-anyone-ever-had-this-error-and-how-did-you-fix-it-v0-e8ze71t4n4hd1.jpeg?width=1080&crop=smart&auto=webp&s=2ea59917edf78dab00abbb7c070ca8a1201f814f\"\n",
    "prompt = \"Hãy xem hình ảnh sau và cho tôi biết đây là lỗi gì và cách khắc phục như thế nào?\""
   ]
  },
  {
   "cell_type": "code",
   "execution_count": 5,
   "metadata": {},
   "outputs": [
    {
     "name": "stderr",
     "output_type": "stream",
     "text": [
      "c:\\Users\\acer\\miniconda3\\envs\\env\\Lib\\site-packages\\transformers\\models\\bert\\modeling_bert.py:439: UserWarning: 1Torch was not compiled with flash attention. (Triggered internally at ..\\aten\\src\\ATen\\native\\transformers\\cuda\\sdp_utils.cpp:455.)\n",
      "  attn_output = torch.nn.functional.scaled_dot_product_attention(\n"
     ]
    },
    {
     "name": "stdout",
     "output_type": "stream",
     "text": [
      "Dựa trên thông tin kỹ thuật dưới đây, hãy trả lời câu hỏi sau:\n",
      "\n",
      "# Thông tin kỹ thuật:\n",
      "\n",
      "\n",
      "# Câu hỏi:\n",
      "Hãy xem hình ảnh sau và cho tôi biết đây là lỗi gì và cách khắc phục như thế nào?\n",
      "\n",
      "Model responded directly to the user.\n",
      "Ảnh này cho thấy lỗi \"Drive Error 307\" với nguyên nhân là \"Power bus voltage too low (software)\", liên quan đến điện áp thấp trên thanh dẫn nguồn của ổ đĩa X. \n",
      "\n",
      "## Chẩn đoán:\n",
      "1. Kiểm tra nguồn cấp: Đảm bảo điện áp đầu vào của máy CNC đáp ứng thông số kỹ thuật.\n",
      "2. Kiểm tra phần mềm: Cập nhật phần mềm điều khiển máy CNC lên phiên bản mới nhất.\n",
      "\n",
      "## Khắc phục:\n",
      "1. Ngắt nguồn máy CNC và kiểm tra kết nối điện.\n",
      "2. Thay thế cáp nguồn hoặc bộ chuyển đổi nếu cần.\n",
      "3. Sử dụng bộ ổn áp nếu điện áp đầu vào không ổn định.\n",
      "4. Khởi động lại máy CNC và cập nhật phần mềm điều khiển.\n"
     ]
    }
   ],
   "source": [
    "\n",
    "response = model.generate_response(prompt, image_link= image_link)\n",
    "print(response)"
   ]
  },
  {
   "cell_type": "code",
   "execution_count": 6,
   "metadata": {},
   "outputs": [
    {
     "name": "stdout",
     "output_type": "stream",
     "text": [
      "{'role': 'system', 'content': 'You are an intelligent and helpful assistant specializing in supporting operations at Denso Vietnam, a leading export manufacturing enterprise that supplies automotive components. Your primary role is to assist with factory operations, provide insights into production processes, help optimize workflows, and answer technical queries related to machine, automotive parts manufacturing and assembly. Ensure your responses are clear, and tailored to the needs of factory personnel.'}\n",
      "{'role': 'user', 'content': 'Hãy xem hình ảnh sau và cho tôi biết đây là lỗi gì và cách khắc phục như thế nào?'}\n",
      "{'role': 'assistant', 'content': 'Ảnh này cho thấy lỗi \"Drive Error 307\" với nguyên nhân là \"Power bus voltage too low (software)\", liên quan đến điện áp thấp trên thanh dẫn nguồn của ổ đĩa X. \\n\\n## Chẩn đoán:\\n1. Kiểm tra nguồn cấp: Đảm bảo điện áp đầu vào của máy CNC đáp ứng thông số kỹ thuật.\\n2. Kiểm tra phần mềm: Cập nhật phần mềm điều khiển máy CNC lên phiên bản mới nhất.\\n\\n## Khắc phục:\\n1. Ngắt nguồn máy CNC và kiểm tra kết nối điện.\\n2. Thay thế cáp nguồn hoặc bộ chuyển đổi nếu cần.\\n3. Sử dụng bộ ổn áp nếu điện áp đầu vào không ổn định.\\n4. Khởi động lại máy CNC và cập nhật phần mềm điều khiển.'}\n"
     ]
    }
   ],
   "source": [
    "for ele in model.get_chat_history():\n",
    "    print(ele)"
   ]
  },
  {
   "cell_type": "code",
   "execution_count": null,
   "metadata": {},
   "outputs": [],
   "source": []
  }
 ],
 "metadata": {
  "kernelspec": {
   "display_name": "env",
   "language": "python",
   "name": "python3"
  },
  "language_info": {
   "codemirror_mode": {
    "name": "ipython",
    "version": 3
   },
   "file_extension": ".py",
   "mimetype": "text/x-python",
   "name": "python",
   "nbconvert_exporter": "python",
   "pygments_lexer": "ipython3",
   "version": "3.12.2"
  }
 },
 "nbformat": 4,
 "nbformat_minor": 2
}
