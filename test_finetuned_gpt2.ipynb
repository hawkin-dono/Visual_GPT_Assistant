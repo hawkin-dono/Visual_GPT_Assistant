{
 "cells": [
  {
   "cell_type": "code",
   "execution_count": 1,
   "metadata": {},
   "outputs": [],
   "source": [
    "from openai import OpenAI\n",
    "import json\n",
    "import requests\n",
    "import base64"
   ]
  },
  {
   "cell_type": "markdown",
   "metadata": {},
   "source": [
    "# Set API"
   ]
  },
  {
   "cell_type": "code",
   "execution_count": null,
   "metadata": {},
   "outputs": [],
   "source": []
  },
  {
   "cell_type": "code",
   "execution_count": 3,
   "metadata": {},
   "outputs": [],
   "source": [
    "## Set the API key\n",
    "client = OpenAI(api_key=API_KEY)"
   ]
  },
  {
   "cell_type": "markdown",
   "metadata": {},
   "source": [
    "# Call API"
   ]
  },
  {
   "cell_type": "code",
   "execution_count": 4,
   "metadata": {},
   "outputs": [],
   "source": [
    "# MODEL=\"ft:gpt-4o-mini-2024-07-18:personal:denso-expert:AWwMgjbb\"\n",
    "MODEL = 'ft:gpt-4o-2024-08-06:personal::AXT1Yomi'\n",
    "def generate_response(message):\n",
    "    completion = client.chat.completions.create(\n",
    "    model=MODEL,\n",
    "    messages= message, \n",
    "    n = 1)\n",
    "    return completion.choices[0].message.content\n",
    "    "
   ]
  },
  {
   "cell_type": "markdown",
   "metadata": {},
   "source": [
    "# Test 5"
   ]
  },
  {
   "cell_type": "code",
   "execution_count": 46,
   "metadata": {},
   "outputs": [],
   "source": [
    "tools = [\n",
    "        {\n",
    "            \"type\": \"function\",\n",
    "            \"function\": {\n",
    "                        \"name\": \"finding_repair_method\",\n",
    "                        \"description\": \"Get the machine name and model number and error description keyword to query and find similar fixed errors in repair history. Call this function when you need statistics on the operating history of the requested machine., for example when a customer asks 'Hãy cho tôi biết về các cách xử lý lỗi này đã được thực hiện trong quá khứ'. If you do not know about the machine information, ask the user.\",\n",
    "                        \"parameters\": {\n",
    "                            \"type\": \"object\",\n",
    "                            \"properties\": {\n",
    "                                \"machine_name\": {\n",
    "                                    \"type\": \"string\",\n",
    "                                    \"description\": \"The name of the machine\",\n",
    "                                },\n",
    "                                \"machine_id\": {\n",
    "                                    \"type\": \"string\",\n",
    "                                    \"description\": \"The model number of the machine\",\n",
    "                                },\n",
    "                                \"error_description\": {\n",
    "                                    \"type\": \"string\",\n",
    "                                    \"description\": \"Several keywords that describe the error\",\n",
    "                                },\n",
    "                            },\n",
    "                            \"required\": [\"machine_name\", \"model_number\"],\n",
    "                            \"additionalProperties\": False,\n",
    "                            },\n",
    "                        },\n",
    "            \n",
    "\n",
    "                        \n",
    "        },\n",
    "        \n",
    "        {\n",
    "            \"type\": \"function\",\n",
    "            \"function\": {\n",
    "                        \"name\": \"recommend_maintenance\",\n",
    "                        \"description\": \"Get machine id of the machine that need predicting maintenance date. Call this function when you need to recommend maintenance for a machine, If you do not know about the machine information, ask the user.\",\n",
    "                        \"parameters\": {\n",
    "                            \"type\": \"object\",\n",
    "                            \"properties\": {\n",
    "                                \"machine_id\": {\n",
    "                                    \"type\": \"string\",\n",
    "                                    \"description\": \"The id of the machine\",\n",
    "                                },\n",
    "                            },\n",
    "                            \"required\": ['machine_id'],\n",
    "                            \"additionalProperties\": False,\n",
    "                            }\n",
    "                        }\n",
    "        },  \n",
    "        {\n",
    "            \"type\": \"function\",\n",
    "            \"function\": {\n",
    "                        \"name\": \"covariate_effects_on_machine\",\n",
    "                        \"description\": \"Get machine id of the machine that need to find relations between machine's risks. Call this function when you need to recommend maintenance for a machine, If you do not know about the machine information, ask the user.\",\n",
    "                        \"parameters\": {\n",
    "                            \"type\": \"object\",\n",
    "                            \"properties\": {\n",
    "                                \"machine_id\": {\n",
    "                                    \"type\": \"string\",\n",
    "                                    \"description\": \"The id of the machine\",\n",
    "                                },\n",
    "                            },\n",
    "                            \"required\": ['machine_id'],\n",
    "                            \"additionalProperties\": False,\n",
    "                            }\n",
    "                        }\n",
    "        },  \n",
    "\n",
    "            \n",
    "\n",
    "                        \n",
    "        \n",
    "]"
   ]
  },
  {
   "cell_type": "code",
   "execution_count": 47,
   "metadata": {},
   "outputs": [],
   "source": [
    "messages = [\n",
    "    {\n",
    "        \"role\": \"system\",\n",
    "        \"content\": \"You are an intelligent and helpful assistant specializing in supporting operations at Denso Vietnam, a leading export manufacturing enterprise that supplies automotive components. Your primary role is to assist with factory operations, provide insights into production processes, help optimize workflows, and answer technical queries related to automotive parts manufacturing and assembly. Ensure your responses are clear, concise, and tailored to the needs of factory personnel.\" \n",
    "    },\n",
    "    {\n",
    "        \"role\": \"user\",\n",
    "        \"content\": \"Hãy cho tôi biết khi nào máy CNC này cần được bảo trì\"\n",
    "    }\n",
    "]"
   ]
  },
  {
   "cell_type": "code",
   "execution_count": 48,
   "metadata": {},
   "outputs": [
    {
     "data": {
      "text/plain": [
       "ChatCompletion(id='chatcmpl-AXci3iByovx0ihjx99uojRZ2c8Q3e', choices=[Choice(finish_reason='stop', index=0, logprobs=None, message=ChatCompletionMessage(content='Để đưa ra dự đoán chính xác về ngày bảo trì, tôi cần biết model của máy CNC. Bạn có thể cung cấp thông tin này không?', role='assistant', function_call=None, tool_calls=None, refusal=None))], created=1732576987, model='ft:gpt-4o-2024-08-06:personal::AXT1Yomi', object='chat.completion', system_fingerprint='fp_364baf3540', usage=CompletionUsage(completion_tokens=33, prompt_tokens=372, total_tokens=405, prompt_tokens_details={'cached_tokens': 0, 'audio_tokens': 0}, completion_tokens_details={'reasoning_tokens': 0, 'audio_tokens': 0, 'accepted_prediction_tokens': 0, 'rejected_prediction_tokens': 0}))"
      ]
     },
     "execution_count": 48,
     "metadata": {},
     "output_type": "execute_result"
    }
   ],
   "source": [
    "response = client.chat.completions.create(\n",
    "    model=MODEL,\n",
    "    messages=messages,\n",
    "    tools=tools,\n",
    "    n =1 \n",
    ")\n",
    "response\n",
    "# print(response.choices[0].message.content)"
   ]
  },
  {
   "cell_type": "code",
   "execution_count": 49,
   "metadata": {},
   "outputs": [],
   "source": [
    "messages.append(\n",
    "    {\n",
    "        \"role\": \"assistant\",\n",
    "        \"content\": response.choices[0].message.content\n",
    "    }\n",
    ")"
   ]
  },
  {
   "cell_type": "code",
   "execution_count": 50,
   "metadata": {},
   "outputs": [
    {
     "data": {
      "text/plain": [
       "ChatCompletionMessage(content='Để đưa ra dự đoán chính xác về ngày bảo trì, tôi cần biết model của máy CNC. Bạn có thể cung cấp thông tin này không?', role='assistant', function_call=None, tool_calls=None, refusal=None)"
      ]
     },
     "execution_count": 50,
     "metadata": {},
     "output_type": "execute_result"
    }
   ],
   "source": [
    "response.choices[0].message"
   ]
  },
  {
   "cell_type": "code",
   "execution_count": 51,
   "metadata": {},
   "outputs": [
    {
     "data": {
      "text/plain": [
       "[{'role': 'system',\n",
       "  'content': 'You are an intelligent and helpful assistant specializing in supporting operations at Denso Vietnam, a leading export manufacturing enterprise that supplies automotive components. Your primary role is to assist with factory operations, provide insights into production processes, help optimize workflows, and answer technical queries related to automotive parts manufacturing and assembly. Ensure your responses are clear, concise, and tailored to the needs of factory personnel.'},\n",
       " {'role': 'user',\n",
       "  'content': 'Hãy cho tôi biết khi nào máy CNC này cần được bảo trì'},\n",
       " {'role': 'assistant',\n",
       "  'content': 'Để đưa ra dự đoán chính xác về ngày bảo trì, tôi cần biết model của máy CNC. Bạn có thể cung cấp thông tin này không?'}]"
      ]
     },
     "execution_count": 51,
     "metadata": {},
     "output_type": "execute_result"
    }
   ],
   "source": [
    "messages"
   ]
  },
  {
   "cell_type": "code",
   "execution_count": 52,
   "metadata": {},
   "outputs": [],
   "source": [
    "messages.append({\n",
    "    \"role\": \"user\",\n",
    "    \"content\": \"VMI 0127\"\n",
    "})"
   ]
  },
  {
   "cell_type": "code",
   "execution_count": 53,
   "metadata": {},
   "outputs": [
    {
     "data": {
      "text/plain": [
       "[{'role': 'system',\n",
       "  'content': 'You are an intelligent and helpful assistant specializing in supporting operations at Denso Vietnam, a leading export manufacturing enterprise that supplies automotive components. Your primary role is to assist with factory operations, provide insights into production processes, help optimize workflows, and answer technical queries related to automotive parts manufacturing and assembly. Ensure your responses are clear, concise, and tailored to the needs of factory personnel.'},\n",
       " {'role': 'user',\n",
       "  'content': 'Hãy cho tôi biết khi nào máy CNC này cần được bảo trì'},\n",
       " {'role': 'assistant',\n",
       "  'content': 'Để đưa ra dự đoán chính xác về ngày bảo trì, tôi cần biết model của máy CNC. Bạn có thể cung cấp thông tin này không?'},\n",
       " {'role': 'user', 'content': 'VMI 0127'}]"
      ]
     },
     "execution_count": 53,
     "metadata": {},
     "output_type": "execute_result"
    }
   ],
   "source": [
    "messages"
   ]
  },
  {
   "cell_type": "code",
   "execution_count": 54,
   "metadata": {},
   "outputs": [
    {
     "data": {
      "text/plain": [
       "ChatCompletion(id='chatcmpl-AXcin3iIYZZHBB3Iy8ps8PsWryzYw', choices=[Choice(finish_reason='stop', index=0, logprobs=None, message=ChatCompletionMessage(content='Đối với máy CNC VMI 0127:\\n\\n1. **Lịch bảo trì thường xuyên:** Cứ mỗi 500 giờ hoạt động hoặc ít nhất 6 tháng một lần, bạn nên thực hiện bảo trì định kỳ để đảm bảo hoạt động hiệu quả và kéo dài tuổi thọ máy.', role='assistant', function_call=None, tool_calls=None, refusal=None))], created=1732577033, model='ft:gpt-4o-2024-08-06:personal::AXT1Yomi', object='chat.completion', system_fingerprint='fp_364baf3540', usage=CompletionUsage(completion_tokens=61, prompt_tokens=145, total_tokens=206, prompt_tokens_details={'cached_tokens': 0, 'audio_tokens': 0}, completion_tokens_details={'reasoning_tokens': 0, 'audio_tokens': 0, 'accepted_prediction_tokens': 0, 'rejected_prediction_tokens': 0}))"
      ]
     },
     "execution_count": 54,
     "metadata": {},
     "output_type": "execute_result"
    }
   ],
   "source": [
    "response = client.chat.completions.create(\n",
    "    model=MODEL,\n",
    "    messages=messages,\n",
    ")\n",
    "response"
   ]
  },
  {
   "cell_type": "markdown",
   "metadata": {},
   "source": [
    "# test 6"
   ]
  },
  {
   "cell_type": "code",
   "execution_count": 44,
   "metadata": {},
   "outputs": [],
   "source": [
    "message6= [{\n",
    "        \"role\": \"system\",\n",
    "        \"content\": \"You are an intelligent and helpful assistant specializing in supporting operations at Denso Vietnam, a leading export manufacturing enterprise that supplies automotive components. Your primary role is to assist with factory operations, provide insights into production processes, help optimize workflows, and answer technical queries related to automotive parts manufacturing and assembly. Ensure your responses are clear, concise, and tailored to the needs of factory personnel.\" \n",
    "        },\n",
    "        {\n",
    "        \"role\": \"user\",\n",
    "        \"content\": \"Hãy thống kê về các lỗi xảy ra tại máy CNC này\"\n",
    "        },\n",
    "        {\"role\": \"assistant\", \n",
    "         \"content\": \"'Bạn vui lòng cung cấp tên và số model của máy CNC để tôi có thể lấy thông tin thống kê.'\"},\n",
    "        {\"role\": \"user\", \"content\": \"Tôi muốn hỏi về máy OP1 CNC, số quản lý thiết bị là VMI 0082\"},]"
   ]
  },
  {
   "cell_type": "code",
   "execution_count": 45,
   "metadata": {},
   "outputs": [
    {
     "data": {
      "text/plain": [
       "ChatCompletion(id='chatcmpl-AXceKU0NDzyxrBDGREQeVXe40YOuR', choices=[Choice(finish_reason='tool_calls', index=0, logprobs=None, message=ChatCompletionMessage(content=None, role='assistant', function_call=None, tool_calls=[ChatCompletionMessageToolCall(id='call_UtFn7mvvSAL43B7JOTalzhvk', function=Function(arguments='{\"machine_name\":\"OP1 CNC\",\"machine_id\":\"VMI 0082\",\"error_description\":\"all\"}', name='finding_repair_method'), type='function')], refusal=None))], created=1732576756, model='ft:gpt-4o-2024-08-06:personal::AXT1Yomi', object='chat.completion', system_fingerprint='fp_4da243c00f', usage=CompletionUsage(completion_tokens=34, prompt_tokens=288, total_tokens=322, prompt_tokens_details={'cached_tokens': 0, 'audio_tokens': 0}, completion_tokens_details={'reasoning_tokens': 0, 'audio_tokens': 0, 'accepted_prediction_tokens': 0, 'rejected_prediction_tokens': 0}))"
      ]
     },
     "execution_count": 45,
     "metadata": {},
     "output_type": "execute_result"
    }
   ],
   "source": [
    "response = client.chat.completions.create(\n",
    "    model=MODEL,\n",
    "    messages=message6,\n",
    "    tools=tools,\n",
    "    n =1 \n",
    ")\n",
    "response\n",
    "# print(response.choices[0].message.content)"
   ]
  },
  {
   "cell_type": "code",
   "execution_count": 24,
   "metadata": {},
   "outputs": [
    {
     "data": {
      "text/plain": [
       "ChatCompletionMessageToolCall(id='call_M91J9N1AqgiYIRhtlRX5W0xm', function=Function(arguments='{\"machine_name\":\"OP1 CNC\",\"machine_id\":\"VMI 0082\"}', name='finding_repair_method'), type='function')"
      ]
     },
     "execution_count": 24,
     "metadata": {},
     "output_type": "execute_result"
    }
   ],
   "source": [
    "tool_call = response.choices[0].message.tool_calls[0]\n",
    "tool_call"
   ]
  },
  {
   "cell_type": "code",
   "execution_count": 25,
   "metadata": {},
   "outputs": [],
   "source": [
    "message6.append(response.choices[0].message)"
   ]
  },
  {
   "cell_type": "code",
   "execution_count": 26,
   "metadata": {},
   "outputs": [],
   "source": [
    "function_call_result_message = {\"role\": \"tool\",\n",
    "                                \"content\": \"\"\"Lỗi thứ 1\n",
    "Tên thiết bị: OP4\n",
    "Số quản lý thiết bị: VMI 0082\n",
    "Ngày phát sinh: 05-01-2024\n",
    "Nắm bắt hiện tượng: #9883: Rơi dao T4\n",
    "Nguyên nhân 1: lệch góc orien giữa ATC và trục chính\n",
    "Nguyên nhân 2: nghi ngờ do mòn lacking trục vít Y ở vị trí đổi dao\n",
    "Nguyên nhân gốc: nan\n",
    "Xử lý:  --- 1: bù điều chỉnh góc orien --- 2: Kiểm tra tay atc --- 3: kiểm tra trục vít Y1, Y2\n",
    "Nội dung phòng chống tái phát: nên kế hoạch thay thế trục vít Y1, Y2 , kiểm tra lại đồng tâm dao với trục chính , nhờ  PE kết hợp cùng điều chỉnh lại gốc gia công\n",
    "\n",
    "Lỗi thứ 2\n",
    "Tên thiết bị: OP4\n",
    "Số quản lý thiết bị: VMI 0082\n",
    "Ngày phát sinh: 06-01-2024\n",
    "Nắm bắt hiện tượng: #9905: Rơi dao T1 , T3\n",
    "Nguyên nhân 1: độ rơ tay ATC lớn ( 9 mm ).\n",
    "Nguyên nhân 2: không dầu cấp vào cụm ATC.\n",
    "Nguyên nhân gốc: lỗi cấp dầu.\n",
    "Xử lý:  --- 1: kiểm tra post giữ dao. --- 2: Kiểm tra tay atc --- 3: khoảng cách tay ATC với mặt trục chính, mặt post dao --- 4: kiểm tra độ rơ trục shafft ATC. --- 5: kiểm tra dầu cấp cụm ATC --- 6: cấp lại dầu ATC --- 7: lắp dao, chạy đo chất lượng sản phẩm\n",
    "Nội dung phòng chống tái phát: thay kiểm tra, thay thế linh kiện cụm ATC.\n",
    "\n",
    "Lỗi thứ 3\n",
    "Tên thiết bị: OP4\n",
    "Số quản lý thiết bị: VMI 0082\n",
    "Ngày phát sinh: 07-01-2024\n",
    "Nắm bắt hiện tượng: #9913: rơi dao\n",
    "Nguyên nhân 1: mòn , gỉ , linh kiện cơ cấu cụm ATC\n",
    "Nguyên nhân 2: không có dầu bôi trơn , dầu bôi trơn bị lão hóa\n",
    "Nguyên nhân gốc: mòn seal trục ATC\n",
    "Xử lý:  --- 1: thay tay ATC --- 2: cải tạo cụm gear ATC\n",
    "Nội dung phòng chống tái phát: lên kế hoạch kiểm tra độ rơ cụm ATC , dầu bôi trơn cụm Gear ATC\n",
    "\n",
    "Lỗi thứ 11\n",
    "Tên thiết bị: OP4\n",
    "Số quản lý thiết bị: VMI 0105\n",
    "Ngày phát sinh: 20-01-2024\n",
    "Nắm bắt hiện tượng: #10153: Máy báo lỗi EX1004 ATC\n",
    "Nguyên nhân 1: trục saft rơ 10mm\n",
    "Nguyên nhân 2: nghi ngờ không có dầu bôi trơn dẫn đến mài mòn\n",
    "Nguyên nhân gốc: lỗi thao tác kiểm tra cấp dầu\n",
    "Xử lý:  --- 1: kiểm tra độ rơ trục saft tay ATC --- 2: Kiểm tra tay atc --- 3: góc orien --- 4: kiểm tra dầu bôi trơn --- 5: cấp dầu bôi trơn\n",
    "Nội dung phòng chống tái phát: lên kế hoạch kiểm tra độ rơ trục saft , dầu obala cấp cho cụm gear ATC\"\"\",\n",
    "                                \"tool_call_id\": response.choices[0].message.tool_calls[0].id}"
   ]
  },
  {
   "cell_type": "code",
   "execution_count": 13,
   "metadata": {},
   "outputs": [],
   "source": [
    "message6.append(function_call_result_message)"
   ]
  },
  {
   "cell_type": "code",
   "execution_count": 14,
   "metadata": {},
   "outputs": [],
   "source": [
    "response = client.chat.completions.create(\n",
    "    model=MODEL,\n",
    "    messages= message6,\n",
    ")"
   ]
  },
  {
   "cell_type": "code",
   "execution_count": 16,
   "metadata": {},
   "outputs": [
    {
     "name": "stdout",
     "output_type": "stream",
     "text": [
      "Máy OP1 CNC (Số quản lý: VMI 0082) gặp các lỗi liên quan đến hệ thống đổi dao tự động (ATC). Dưới đây là các lỗi đã ghi nhận:\n",
      "\n",
      "1. **Ngày 05-01-2024: Rơi dao T4**\n",
      "   - Nguyên nhân: Lệch góc orientation giữa ATC và trục chính, nghi ngờ mòn lắp trục vít Y.\n",
      "   - Xử lý: Bù chỉnh góc orientation, kiểm tra tay ATC, kiểm tra trục vít Y.\n",
      "\n",
      "2. **Ngày 06-01-2024: Rơi dao T1, T3**\n",
      "   - Nguyên nhân: Độ rơ tay ATC lớn (9mm), lỗi cấp dầu.\n",
      "   - Xử lý: Kiểm tra post giữ dao, tay ATC, khoảng cách tay ATC, độ rơ trục shaft ATC, cấp dầu cho cụm ATC.\n",
      "\n",
      "3. **Ngày 07-01-2024: Rơi dao (không rõ vị trí)**\n",
      "   - Nguyên nhân: Mòn, gỉ linh kiện cơ cấu cụm ATC, không có dầu bôi trơn.\n",
      "   - Xử lý: Thay tay ATC, cải tạo cụm gear ATC.\n",
      "\n",
      "Các hoạt động phòng chống tái phát đã được đề xuất cho từng trường hợp, như kiểm tra và thay thế linh kiện, lập kế hoạch kiểm tra định kỳ.\n"
     ]
    }
   ],
   "source": [
    "print(response.choices[0].message.content)"
   ]
  },
  {
   "cell_type": "code",
   "execution_count": 26,
   "metadata": {},
   "outputs": [
    {
     "name": "stdout",
     "output_type": "stream",
     "text": [
      "Machine name: OP1 CNC, Model number: VMI 0082\n"
     ]
    }
   ],
   "source": [
    "arguments = json.loads(tool_call.function.arguments)\n",
    "machine_name = arguments[\"machine_name\"]\n",
    "model_number = arguments[\"model_number\"]\n",
    "print(f\"Machine name: {machine_name}, Model number: {model_number}\")"
   ]
  },
  {
   "cell_type": "code",
   "execution_count": 27,
   "metadata": {},
   "outputs": [],
   "source": [
    "def function_calling(arguments):\n",
    "    machine_name = arguments[\"machine_name\"]\n",
    "    model_number = arguments[\"model_number\"]\n",
    "    print(f\"________________________________________\\n finish function calling with machine name: {machine_name}, model number: {model_number}\\n________________________________________\")"
   ]
  },
  {
   "cell_type": "code",
   "execution_count": 28,
   "metadata": {},
   "outputs": [
    {
     "name": "stdout",
     "output_type": "stream",
     "text": [
      "________________________________________\n",
      " finish function calling with machine name: OP1 CNC, model number: VMI 0082\n",
      "________________________________________\n"
     ]
    }
   ],
   "source": [
    "function_calling(arguments)"
   ]
  },
  {
   "cell_type": "code",
   "execution_count": null,
   "metadata": {},
   "outputs": [],
   "source": []
  }
 ],
 "metadata": {
  "kernelspec": {
   "display_name": "env",
   "language": "python",
   "name": "python3"
  },
  "language_info": {
   "codemirror_mode": {
    "name": "ipython",
    "version": 3
   },
   "file_extension": ".py",
   "mimetype": "text/x-python",
   "name": "python",
   "nbconvert_exporter": "python",
   "pygments_lexer": "ipython3",
   "version": "3.12.2"
  }
 },
 "nbformat": 4,
 "nbformat_minor": 2
}
