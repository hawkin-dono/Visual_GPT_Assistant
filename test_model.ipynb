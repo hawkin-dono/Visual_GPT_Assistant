{
 "cells": [
  {
   "cell_type": "code",
   "execution_count": 1,
   "metadata": {},
   "outputs": [],
   "source": [
    "\n",
    "# import sys\n",
    "# sys.path.append('../')\n",
    "from GPT_API_model import GPT_APIModel\n",
    "from dotenv import load_dotenv\n",
    "\n",
    "import os\n"
   ]
  },
  {
   "cell_type": "code",
   "execution_count": null,
   "metadata": {},
   "outputs": [],
   "source": []
  },
  {
   "cell_type": "code",
   "execution_count": 2,
   "metadata": {},
   "outputs": [
    {
     "name": "stderr",
     "output_type": "stream",
     "text": [
      "c:\\Users\\acer\\miniconda3\\envs\\env\\Lib\\site-packages\\transformers\\tokenization_utils_base.py:1614: FutureWarning: `clean_up_tokenization_spaces` was not set. It will be set to `True` by default. This behavior will be deprecated in transformers v4.45, and will be then set to `False` by default. For more details check this issue: https://github.com/huggingface/transformers/issues/31884\n",
      "  warnings.warn(\n"
     ]
    }
   ],
   "source": [
    "load_dotenv() \n",
    "api_key = os.getenv(\"GPT_API\")\n",
    "model = GPT_APIModel(api_key)"
   ]
  },
  {
   "cell_type": "markdown",
   "metadata": {},
   "source": [
    "# restart chat"
   ]
  },
  {
   "cell_type": "code",
   "execution_count": 3,
   "metadata": {},
   "outputs": [],
   "source": [
    "model.reset_chat_history()"
   ]
  },
  {
   "cell_type": "markdown",
   "metadata": {},
   "source": [
    "# Test text response"
   ]
  },
  {
   "cell_type": "code",
   "execution_count": null,
   "metadata": {},
   "outputs": [],
   "source": [
    "prompt = \"Máy CNC bị rơi dao, hãy giúp tôi đưa ra cách khắc phục\"\n",
    "image_link = None\n",
    "response = model.generate_response(prompt, image_link= image_link)\n"
   ]
  },
  {
   "cell_type": "code",
   "execution_count": null,
   "metadata": {},
   "outputs": [
    {
     "name": "stdout",
     "output_type": "stream",
     "text": [
      "Để khắc phục lỗi rơi dao, bạn có thể thực hiện các bước sau:\n",
      "\n",
      "1. **Ngừng vận hành máy:** Tắt máy và ngắt nguồn điện.\n",
      "2. **Kiểm tra chấu kẹp:** Tháo chấu kẹp ra, kiểm tra trực quan và đo kích thước để xác nhận mức độ mòn hoặc hỏng.\n",
      "3. **Vệ sinh:** Làm sạch chấu kẹp và khu vực xung quanh.\n",
      "4. **Lắp đặt hoặc thay thế chấu kẹp:** Lắp lại chấu kẹp cũ nếu còn tốt hoặc thay thế bằng chấu mới.\n",
      "5. **Kiểm tra và điều chỉnh:** Kiểm tra độ chắc chắn và chạy thử để phát hiện rung động hoặc tiếng kêu bất thường.\n",
      "6. **Bảo trì định kỳ:** Lên kế hoạch kiểm tra và đào tạo nhân viên.\n"
     ]
    }
   ],
   "source": [
    "print(response)"
   ]
  },
  {
   "cell_type": "code",
   "execution_count": null,
   "metadata": {},
   "outputs": [
    {
     "name": "stdout",
     "output_type": "stream",
     "text": [
      "{'role': 'system', 'content': 'You are an intelligent and helpful assistant specializing in supporting operations at Denso Vietnam, a leading export manufacturing enterprise that supplies automotive components. Your primary role is to assist with factory operations, provide insights into production processes, help optimize workflows, and answer technical queries related to automotive parts manufacturing and assembly. Ensure your responses are clear, concise, and tailored to the needs of factory personnel.'}\n",
      "{'role': 'user', 'content': 'Máy CNC bị rơi dao, hãy giúp tôi đưa ra cách khắc phục'}\n",
      "{'role': 'assistant', 'content': 'Để khắc phục lỗi rơi dao, bạn có thể thực hiện các bước sau:\\n\\n1. **Ngừng vận hành máy:** Tắt máy và ngắt nguồn điện.\\n2. **Kiểm tra chấu kẹp:** Tháo chấu kẹp ra, kiểm tra trực quan và đo kích thước để xác nhận mức độ mòn hoặc hỏng.\\n3. **Vệ sinh:** Làm sạch chấu kẹp và khu vực xung quanh.\\n4. **Lắp đặt hoặc thay thế chấu kẹp:** Lắp lại chấu kẹp cũ nếu còn tốt hoặc thay thế bằng chấu mới.\\n5. **Kiểm tra và điều chỉnh:** Kiểm tra độ chắc chắn và chạy thử để phát hiện rung động hoặc tiếng kêu bất thường.\\n6. **Bảo trì định kỳ:** Lên kế hoạch kiểm tra và đào tạo nhân viên.'}\n"
     ]
    }
   ],
   "source": [
    "for ele in model.get_chat_history():\n",
    "    print(ele)"
   ]
  },
  {
   "cell_type": "code",
   "execution_count": null,
   "metadata": {},
   "outputs": [],
   "source": [
    "prompt = \"hãy cho tôi biết về cách xử lý lỗi này đã được thực hiện trong quá khứ\"\n",
    "image_link = None"
   ]
  },
  {
   "cell_type": "code",
   "execution_count": null,
   "metadata": {},
   "outputs": [
    {
     "name": "stdout",
     "output_type": "stream",
     "text": [
      "Dựa trên thông tin kỹ thuật dưới đây, hãy trả lời câu hỏi sau:\n",
      "\n",
      "# Thông tin kỹ thuật:\n",
      "\n",
      "\n",
      "# Câu hỏi:\n",
      "hãy cho tôi biết về cách xử lý lỗi này đã được thực hiện trong quá khứ\n",
      "\n",
      "Model responded directly to the user.\n",
      "Vui lòng cung cấp tên và model của máy CNC.\n"
     ]
    }
   ],
   "source": [
    "response = model.generate_response(prompt, image_link= image_link)\n",
    "print(response)"
   ]
  },
  {
   "cell_type": "code",
   "execution_count": 9,
   "metadata": {},
   "outputs": [
    {
     "name": "stdout",
     "output_type": "stream",
     "text": [
      "{'role': 'system', 'content': 'You are an intelligent and helpful assistant specializing in supporting operations at Denso Vietnam, a leading export manufacturing enterprise that supplies automotive components. Your primary role is to assist with factory operations, provide insights into production processes, help optimize workflows, and answer technical queries related to automotive parts manufacturing and assembly. Ensure your responses are clear, concise, and tailored to the needs of factory personnel.'}\n",
      "{'role': 'user', 'content': 'Máy CNC bị rơi dao, hãy giúp tôi đưa ra cách khắc phục'}\n",
      "{'role': 'assistant', 'content': 'Để khắc phục lỗi rơi dao, bạn có thể thực hiện các bước sau:\\n\\n1. **Ngừng vận hành máy:** Tắt máy và ngắt nguồn điện.\\n2. **Kiểm tra chấu kẹp:** Tháo chấu kẹp ra, kiểm tra trực quan và đo kích thước để xác nhận mức độ mòn hoặc hỏng.\\n3. **Vệ sinh:** Làm sạch chấu kẹp và khu vực xung quanh.\\n4. **Lắp đặt hoặc thay thế chấu kẹp:** Lắp lại chấu kẹp cũ nếu còn tốt hoặc thay thế bằng chấu mới.\\n5. **Kiểm tra và điều chỉnh:** Kiểm tra độ chắc chắn và chạy thử để phát hiện rung động hoặc tiếng kêu bất thường.\\n6. **Bảo trì định kỳ:** Lên kế hoạch kiểm tra và đào tạo nhân viên.'}\n",
      "{'role': 'user', 'content': 'hãy cho tôi biết về cách xử lý lỗi này đã được thực hiện trong quá khứ'}\n",
      "{'role': 'assistant', 'content': 'Vui lòng cung cấp tên và model của máy CNC.'}\n"
     ]
    }
   ],
   "source": [
    "for ele in model.get_chat_history():\n",
    "    print(ele)"
   ]
  },
  {
   "cell_type": "code",
   "execution_count": 11,
   "metadata": {},
   "outputs": [
    {
     "name": "stdout",
     "output_type": "stream",
     "text": [
      "Dựa trên thông tin kỹ thuật dưới đây, hãy trả lời câu hỏi sau:\n",
      "\n",
      "# Thông tin kỹ thuật:\n",
      "\n",
      "\n",
      "# Câu hỏi:\n",
      "Tôi muốn hỏi về máy OP1, số quản lý thiết bị là VMI 0082\n",
      "\n",
      "Model made a tool call.\n"
     ]
    },
    {
     "ename": "FileNotFoundError",
     "evalue": "Model or categories file not found. Ensure saved_models/model.pkl and saved_models/categories.pkl exist.",
     "output_type": "error",
     "traceback": [
      "\u001b[1;31m---------------------------------------------------------------------------\u001b[0m",
      "\u001b[1;31mFileNotFoundError\u001b[0m                         Traceback (most recent call last)",
      "Cell \u001b[1;32mIn[11], line 3\u001b[0m\n\u001b[0;32m      1\u001b[0m prompt \u001b[38;5;241m=\u001b[39m \u001b[38;5;124m\"\u001b[39m\u001b[38;5;124mTôi muốn hỏi về máy OP1, số quản lý thiết bị là VMI 0082\u001b[39m\u001b[38;5;124m\"\u001b[39m\n\u001b[0;32m      2\u001b[0m image_link \u001b[38;5;241m=\u001b[39m \u001b[38;5;28;01mNone\u001b[39;00m \n\u001b[1;32m----> 3\u001b[0m response \u001b[38;5;241m=\u001b[39m \u001b[43mmodel\u001b[49m\u001b[38;5;241;43m.\u001b[39;49m\u001b[43mgenerate_response\u001b[49m\u001b[43m(\u001b[49m\u001b[43mprompt\u001b[49m\u001b[43m,\u001b[49m\u001b[43m \u001b[49m\u001b[43mimage_link\u001b[49m\u001b[38;5;241;43m=\u001b[39;49m\u001b[43m \u001b[49m\u001b[43mimage_link\u001b[49m\u001b[43m)\u001b[49m\n\u001b[0;32m      4\u001b[0m \u001b[38;5;28mprint\u001b[39m(response)\n",
      "File \u001b[1;32md:\\code\\fpt_denso_hackathon\\model\\test\\..\\GPT_API_model.py:147\u001b[0m, in \u001b[0;36mGPT_APIModel.generate_response\u001b[1;34m(self, prompt, image_link, do_rag)\u001b[0m\n\u001b[0;32m    139\u001b[0m \u001b[38;5;66;03m## generate response\u001b[39;00m\n\u001b[0;32m    140\u001b[0m response \u001b[38;5;241m=\u001b[39m \u001b[38;5;28mself\u001b[39m\u001b[38;5;241m.\u001b[39mclient\u001b[38;5;241m.\u001b[39mchat\u001b[38;5;241m.\u001b[39mcompletions\u001b[38;5;241m.\u001b[39mcreate(\n\u001b[0;32m    141\u001b[0m         model\u001b[38;5;241m=\u001b[39m \u001b[38;5;28mself\u001b[39m\u001b[38;5;241m.\u001b[39mMODEL,\n\u001b[0;32m    142\u001b[0m         messages\u001b[38;5;241m=\u001b[39mmessage,\n\u001b[0;32m    143\u001b[0m         tools\u001b[38;5;241m=\u001b[39m\u001b[38;5;28mself\u001b[39m\u001b[38;5;241m.\u001b[39mtools,\n\u001b[0;32m    144\u001b[0m         n \u001b[38;5;241m=\u001b[39m\u001b[38;5;241m1\u001b[39m \n\u001b[0;32m    145\u001b[0m     )\n\u001b[1;32m--> 147\u001b[0m answer \u001b[38;5;241m=\u001b[39m \u001b[38;5;28;43mself\u001b[39;49m\u001b[38;5;241;43m.\u001b[39;49m\u001b[43mprocess_response\u001b[49m\u001b[43m(\u001b[49m\u001b[43mprompt\u001b[49m\u001b[43m,\u001b[49m\u001b[43m \u001b[49m\u001b[43mresponse\u001b[49m\u001b[43m)\u001b[49m\n\u001b[0;32m    149\u001b[0m \u001b[38;5;28;01mif\u001b[39;00m \u001b[38;5;28mlen\u001b[39m(\u001b[38;5;28mself\u001b[39m\u001b[38;5;241m.\u001b[39mchat_history) \u001b[38;5;241m>\u001b[39m \u001b[38;5;241m5\u001b[39m:\n\u001b[0;32m    150\u001b[0m     \u001b[38;5;28mself\u001b[39m\u001b[38;5;241m.\u001b[39mreduce_context_length()\n",
      "File \u001b[1;32md:\\code\\fpt_denso_hackathon\\model\\test\\..\\GPT_API_model.py:177\u001b[0m, in \u001b[0;36mGPT_APIModel.process_response\u001b[1;34m(self, prompt, response)\u001b[0m\n\u001b[0;32m    174\u001b[0m \u001b[38;5;28;01mif\u001b[39;00m response\u001b[38;5;241m.\u001b[39mchoices[\u001b[38;5;241m0\u001b[39m]\u001b[38;5;241m.\u001b[39mfinish_reason \u001b[38;5;241m==\u001b[39m \u001b[38;5;124m\"\u001b[39m\u001b[38;5;124mtool_calls\u001b[39m\u001b[38;5;124m\"\u001b[39m:\n\u001b[0;32m    176\u001b[0m     \u001b[38;5;28mprint\u001b[39m(\u001b[38;5;124m\"\u001b[39m\u001b[38;5;124mModel made a tool call.\u001b[39m\u001b[38;5;124m\"\u001b[39m)\n\u001b[1;32m--> 177\u001b[0m     \u001b[38;5;28;01mreturn\u001b[39;00m \u001b[38;5;28;43mself\u001b[39;49m\u001b[38;5;241;43m.\u001b[39;49m\u001b[43mhandle_tool_call\u001b[49m\u001b[43m(\u001b[49m\u001b[43mresponse\u001b[49m\u001b[43m)\u001b[49m\n\u001b[0;32m    179\u001b[0m \u001b[38;5;66;03m# Else finish_reason is \"stop\", in which case the model was just responding directly to the user\u001b[39;00m\n\u001b[0;32m    180\u001b[0m \u001b[38;5;28;01melif\u001b[39;00m response\u001b[38;5;241m.\u001b[39mchoices[\u001b[38;5;241m0\u001b[39m]\u001b[38;5;241m.\u001b[39mfinish_reason \u001b[38;5;241m==\u001b[39m \u001b[38;5;124m\"\u001b[39m\u001b[38;5;124mstop\u001b[39m\u001b[38;5;124m\"\u001b[39m:\n\u001b[0;32m    181\u001b[0m     \u001b[38;5;66;03m# Handle the normal stop case\u001b[39;00m\n",
      "File \u001b[1;32md:\\code\\fpt_denso_hackathon\\model\\test\\..\\GPT_API_model.py:218\u001b[0m, in \u001b[0;36mGPT_APIModel.handle_tool_call\u001b[1;34m(self, response)\u001b[0m\n\u001b[0;32m    216\u001b[0m call_function \u001b[38;5;241m=\u001b[39m response\u001b[38;5;241m.\u001b[39mchoices[\u001b[38;5;241m0\u001b[39m]\u001b[38;5;241m.\u001b[39mmessage\u001b[38;5;241m.\u001b[39mtool_calls[\u001b[38;5;241m0\u001b[39m]\u001b[38;5;241m.\u001b[39mfunction\u001b[38;5;241m.\u001b[39mname\n\u001b[0;32m    217\u001b[0m arguments \u001b[38;5;241m=\u001b[39m json\u001b[38;5;241m.\u001b[39mloads(response\u001b[38;5;241m.\u001b[39mchoices[\u001b[38;5;241m0\u001b[39m]\u001b[38;5;241m.\u001b[39mmessage\u001b[38;5;241m.\u001b[39mtool_calls[\u001b[38;5;241m0\u001b[39m]\u001b[38;5;241m.\u001b[39mfunction\u001b[38;5;241m.\u001b[39marguments)\n\u001b[1;32m--> 218\u001b[0m function_call_result \u001b[38;5;241m=\u001b[39m \u001b[43mhandle_function_calling\u001b[49m\u001b[43m(\u001b[49m\u001b[43mcall_function\u001b[49m\u001b[43m,\u001b[49m\u001b[43m \u001b[49m\u001b[43marguments\u001b[49m\u001b[43m)\u001b[49m\n\u001b[0;32m    219\u001b[0m \u001b[38;5;28;01mif\u001b[39;00m (function_call_result \u001b[38;5;129;01mis\u001b[39;00m \u001b[38;5;28;01mNone\u001b[39;00m) \u001b[38;5;129;01mor\u001b[39;00m (\u001b[38;5;28mlen\u001b[39m(\u001b[38;5;28mstr\u001b[39m(function_call_result)) \u001b[38;5;241m<\u001b[39m\u001b[38;5;241m5\u001b[39m):\n\u001b[0;32m    220\u001b[0m     function_call_result \u001b[38;5;241m=\u001b[39m \u001b[38;5;124m\"\u001b[39m\u001b[38;5;124mKhông tìm thấy thông tin trong lịch sử lỗi và lịch sử bảo trì\u001b[39m\u001b[38;5;124m\"\u001b[39m\n",
      "File \u001b[1;32md:\\code\\fpt_denso_hackathon\\model\\test\\..\\function_calling.py:34\u001b[0m, in \u001b[0;36mhandle_function_calling\u001b[1;34m(func_name, args)\u001b[0m\n\u001b[0;32m     33\u001b[0m \u001b[38;5;28;01mdef\u001b[39;00m \u001b[38;5;21mhandle_function_calling\u001b[39m(func_name, args):\n\u001b[1;32m---> 34\u001b[0m     model, used_categories \u001b[38;5;241m=\u001b[39m \u001b[43mtrain_model\u001b[49m\u001b[38;5;241;43m.\u001b[39;49m\u001b[43mload_model\u001b[49m\u001b[43m(\u001b[49m\n\u001b[0;32m     35\u001b[0m \u001b[43m        \u001b[49m\u001b[43mmodel_path\u001b[49m\u001b[38;5;241;43m=\u001b[39;49m\u001b[38;5;124;43m'\u001b[39;49m\u001b[38;5;124;43msaved_models/model.pkl\u001b[39;49m\u001b[38;5;124;43m'\u001b[39;49m\u001b[43m,\u001b[49m\n\u001b[0;32m     36\u001b[0m \u001b[43m        \u001b[49m\u001b[43mcategories_path\u001b[49m\u001b[38;5;241;43m=\u001b[39;49m\u001b[38;5;124;43m'\u001b[39;49m\u001b[38;5;124;43msaved_models/categories.pkl\u001b[39;49m\u001b[38;5;124;43m'\u001b[39;49m\u001b[43m,\u001b[49m\n\u001b[0;32m     37\u001b[0m \u001b[43m    \u001b[49m\u001b[43m)\u001b[49m\n\u001b[0;32m     38\u001b[0m     df1 \u001b[38;5;241m=\u001b[39m pd\u001b[38;5;241m.\u001b[39mread_csv(\u001b[38;5;124m'\u001b[39m\u001b[38;5;124mdata/machine_info.csv\u001b[39m\u001b[38;5;124m'\u001b[39m)\n\u001b[0;32m     39\u001b[0m     df2 \u001b[38;5;241m=\u001b[39m pd\u001b[38;5;241m.\u001b[39mread_csv(\u001b[38;5;124m'\u001b[39m\u001b[38;5;124mdata/maintain.csv\u001b[39m\u001b[38;5;124m'\u001b[39m)\n",
      "File \u001b[1;32md:\\code\\fpt_denso_hackathon\\model\\test\\..\\src\\model\\train_model.py:62\u001b[0m, in \u001b[0;36mload_model\u001b[1;34m(model_path, categories_path)\u001b[0m\n\u001b[0;32m     50\u001b[0m \u001b[38;5;250m\u001b[39m\u001b[38;5;124;03m\"\"\"\u001b[39;00m\n\u001b[0;32m     51\u001b[0m \u001b[38;5;124;03mLoad the trained Cox Proportional Hazards model and used categories.\u001b[39;00m\n\u001b[0;32m     52\u001b[0m \n\u001b[1;32m   (...)\u001b[0m\n\u001b[0;32m     59\u001b[0m \u001b[38;5;124;03m- used_categories (dict): Dictionary of categories used during training.\u001b[39;00m\n\u001b[0;32m     60\u001b[0m \u001b[38;5;124;03m\"\"\"\u001b[39;00m\n\u001b[0;32m     61\u001b[0m \u001b[38;5;28;01mif\u001b[39;00m \u001b[38;5;129;01mnot\u001b[39;00m os\u001b[38;5;241m.\u001b[39mpath\u001b[38;5;241m.\u001b[39mexists(model_path) \u001b[38;5;129;01mor\u001b[39;00m \u001b[38;5;129;01mnot\u001b[39;00m os\u001b[38;5;241m.\u001b[39mpath\u001b[38;5;241m.\u001b[39mexists(categories_path):\n\u001b[1;32m---> 62\u001b[0m     \u001b[38;5;28;01mraise\u001b[39;00m \u001b[38;5;167;01mFileNotFoundError\u001b[39;00m(\u001b[38;5;124mf\u001b[39m\u001b[38;5;124m\"\u001b[39m\u001b[38;5;124mModel or categories file not found. Ensure \u001b[39m\u001b[38;5;132;01m{\u001b[39;00mmodel_path\u001b[38;5;132;01m}\u001b[39;00m\u001b[38;5;124m and \u001b[39m\u001b[38;5;132;01m{\u001b[39;00mcategories_path\u001b[38;5;132;01m}\u001b[39;00m\u001b[38;5;124m exist.\u001b[39m\u001b[38;5;124m\"\u001b[39m)\n\u001b[0;32m     64\u001b[0m \u001b[38;5;66;03m# Load the model\u001b[39;00m\n\u001b[0;32m     65\u001b[0m cph \u001b[38;5;241m=\u001b[39m joblib\u001b[38;5;241m.\u001b[39mload(model_path)\n",
      "\u001b[1;31mFileNotFoundError\u001b[0m: Model or categories file not found. Ensure saved_models/model.pkl and saved_models/categories.pkl exist."
     ]
    }
   ],
   "source": [
    "prompt = \"Tôi muốn hỏi về máy OP1, số quản lý thiết bị là VMI 0082\"\n",
    "image_link = None \n",
    "response = model.generate_response(prompt, image_link= image_link)\n",
    "print(response)"
   ]
  },
  {
   "cell_type": "code",
   "execution_count": 19,
   "metadata": {},
   "outputs": [
    {
     "name": "stdout",
     "output_type": "stream",
     "text": [
      "{'role': 'system', 'content': 'You are an intelligent and helpful assistant specializing in supporting operations at Denso Vietnam, a leading export manufacturing enterprise that supplies automotive components. Your primary role is to assist with factory operations, provide insights into production processes, help optimize workflows, and answer technical queries related to automotive parts manufacturing and assembly. Ensure your responses are clear, concise, and tailored to the needs of factory personnel.'}\n",
      "{'role': 'user', 'content': 'hãy cho tôi biết về cách xử lý lỗi này đã được thực hiện trong quá khứ'}\n",
      "{'role': 'assistant', 'content': 'Để hỗ trợ tốt hơn, tôi cần biết tên và model của máy CNC gặp sự cố. Bạn có thể cung cấp thông tin này không?'}\n",
      "{'role': 'user', 'content': 'Tôi muốn hỏi về máy OP1, số quản lý thiết bị là VMI 0082'}\n",
      "{'role': 'assistant', 'content': 'Dựa trên lịch sử sửa chữa, máy OP1 đã xuất hiện lỗi rơi dao nhiều lần. Các biện pháp khắc phục đã được thực hiện bao gồm:\\n\\n1. **Thay thế tay ATC và cải tạo cụm gear ATC:** Khi mòn seal trục ATC.\\n2. **Điều chỉnh góc orient và kiểm tra tay ATC, trục vít Y1, Y2:** Khi lệch góc orient và mòn trục vít.\\n3. **Kiểm tra và cấp dầu cho cụm ATC:** Khi lỗi cấp dầu.\\n\\nĐể ngăn ngừa lỗi tái phát, cần lên kế hoạch kiểm tra và thay thế linh kiện, bôi trơn, và điều chỉnh góc gia công định kỳ.'}\n"
     ]
    }
   ],
   "source": [
    "for ele in model.get_chat_history():\n",
    "    print(ele)"
   ]
  },
  {
   "cell_type": "code",
   "execution_count": 20,
   "metadata": {},
   "outputs": [
    {
     "name": "stdout",
     "output_type": "stream",
     "text": [
      "Dựa trên thông tin kỹ thuật dưới đây, hãy trả lời câu hỏi sau:\n",
      "\n",
      "# Thông tin kỹ thuật:\n",
      "\n",
      "\n",
      "# Câu hỏi:\n",
      "Dựa trên lịch sử lỗi của máy móc, hãy đề xuất cho tôi thời gian bảo dưỡng cho máy OP1\n",
      "\n",
      "Model made a tool call.\n",
      "Model loaded from saved_models/model.pkl\n",
      "Used categories loaded from saved_models/categories.pkl\n",
      "Máy OP1 (số quản lý VMI 0082) dự kiến sẽ gặp lỗi lại vào ngày 19-05-2024. Tôi đề xuất thực hiện bảo dưỡng định kỳ trước ngày này, tốt nhất là từ 01-05-2024 đến 10-05-2024.\n"
     ]
    }
   ],
   "source": [
    "prompt = \"Dựa trên lịch sử lỗi của máy móc, hãy đề xuất cho tôi thời gian bảo dưỡng cho máy OP1\"\n",
    "image_link = None \n",
    "response = model.generate_response(prompt, image_link= image_link)\n",
    "print(response)"
   ]
  },
  {
   "cell_type": "markdown",
   "metadata": {},
   "source": [
    "# Reset"
   ]
  },
  {
   "cell_type": "code",
   "execution_count": 18,
   "metadata": {},
   "outputs": [],
   "source": [
    "model.reset_chat_history()"
   ]
  },
  {
   "cell_type": "markdown",
   "metadata": {},
   "source": [
    "# test 2"
   ]
  },
  {
   "cell_type": "code",
   "execution_count": 4,
   "metadata": {},
   "outputs": [],
   "source": [
    "image_link = \"https://preview.redd.it/has-anyone-ever-had-this-error-and-how-did-you-fix-it-v0-e8ze71t4n4hd1.jpeg?width=1080&crop=smart&auto=webp&s=2ea59917edf78dab00abbb7c070ca8a1201f814f\"\n",
    "prompt = \"Hãy xem hình ảnh sau và cho tôi biết đây là lỗi gì và cách khắc phục như thế nào?\""
   ]
  },
  {
   "cell_type": "code",
   "execution_count": 5,
   "metadata": {},
   "outputs": [
    {
     "name": "stderr",
     "output_type": "stream",
     "text": [
      "c:\\Users\\acer\\miniconda3\\envs\\env\\Lib\\site-packages\\transformers\\models\\bert\\modeling_bert.py:439: UserWarning: 1Torch was not compiled with flash attention. (Triggered internally at ..\\aten\\src\\ATen\\native\\transformers\\cuda\\sdp_utils.cpp:455.)\n",
      "  attn_output = torch.nn.functional.scaled_dot_product_attention(\n"
     ]
    },
    {
     "name": "stdout",
     "output_type": "stream",
     "text": [
      "Dựa trên thông tin kỹ thuật dưới đây, hãy trả lời câu hỏi sau:\n",
      "\n",
      "# Thông tin kỹ thuật:\n",
      "\n",
      "\n",
      "# Câu hỏi:\n",
      "Hãy xem hình ảnh sau và cho tôi biết đây là lỗi gì và cách khắc phục như thế nào?\n",
      "\n",
      "Model responded directly to the user.\n",
      "Ảnh này cho thấy lỗi \"Drive Error 307\" với nguyên nhân là \"Power bus voltage too low (software)\", liên quan đến điện áp thấp trên thanh dẫn nguồn của ổ đĩa X. \n",
      "\n",
      "## Chẩn đoán:\n",
      "1. Kiểm tra nguồn cấp: Đảm bảo điện áp đầu vào của máy CNC đáp ứng thông số kỹ thuật.\n",
      "2. Kiểm tra phần mềm: Cập nhật phần mềm điều khiển máy CNC lên phiên bản mới nhất.\n",
      "\n",
      "## Khắc phục:\n",
      "1. Ngắt nguồn máy CNC và kiểm tra kết nối điện.\n",
      "2. Thay thế cáp nguồn hoặc bộ chuyển đổi nếu cần.\n",
      "3. Sử dụng bộ ổn áp nếu điện áp đầu vào không ổn định.\n",
      "4. Khởi động lại máy CNC và cập nhật phần mềm điều khiển.\n"
     ]
    }
   ],
   "source": [
    "\n",
    "response = model.generate_response(prompt, image_link= image_link)\n",
    "print(response)"
   ]
  },
  {
   "cell_type": "code",
   "execution_count": 6,
   "metadata": {},
   "outputs": [
    {
     "name": "stdout",
     "output_type": "stream",
     "text": [
      "{'role': 'system', 'content': 'You are an intelligent and helpful assistant specializing in supporting operations at Denso Vietnam, a leading export manufacturing enterprise that supplies automotive components. Your primary role is to assist with factory operations, provide insights into production processes, help optimize workflows, and answer technical queries related to machine, automotive parts manufacturing and assembly. Ensure your responses are clear, and tailored to the needs of factory personnel.'}\n",
      "{'role': 'user', 'content': 'Hãy xem hình ảnh sau và cho tôi biết đây là lỗi gì và cách khắc phục như thế nào?'}\n",
      "{'role': 'assistant', 'content': 'Ảnh này cho thấy lỗi \"Drive Error 307\" với nguyên nhân là \"Power bus voltage too low (software)\", liên quan đến điện áp thấp trên thanh dẫn nguồn của ổ đĩa X. \\n\\n## Chẩn đoán:\\n1. Kiểm tra nguồn cấp: Đảm bảo điện áp đầu vào của máy CNC đáp ứng thông số kỹ thuật.\\n2. Kiểm tra phần mềm: Cập nhật phần mềm điều khiển máy CNC lên phiên bản mới nhất.\\n\\n## Khắc phục:\\n1. Ngắt nguồn máy CNC và kiểm tra kết nối điện.\\n2. Thay thế cáp nguồn hoặc bộ chuyển đổi nếu cần.\\n3. Sử dụng bộ ổn áp nếu điện áp đầu vào không ổn định.\\n4. Khởi động lại máy CNC và cập nhật phần mềm điều khiển.'}\n"
     ]
    }
   ],
   "source": [
    "for ele in model.get_chat_history():\n",
    "    print(ele)"
   ]
  },
  {
   "cell_type": "code",
   "execution_count": null,
   "metadata": {},
   "outputs": [],
   "source": []
  }
 ],
 "metadata": {
  "kernelspec": {
   "display_name": "env",
   "language": "python",
   "name": "python3"
  },
  "language_info": {
   "codemirror_mode": {
    "name": "ipython",
    "version": 3
   },
   "file_extension": ".py",
   "mimetype": "text/x-python",
   "name": "python",
   "nbconvert_exporter": "python",
   "pygments_lexer": "ipython3",
   "version": "3.12.2"
  }
 },
 "nbformat": 4,
 "nbformat_minor": 2
}
